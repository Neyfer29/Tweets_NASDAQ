{
  "nbformat": 4,
  "nbformat_minor": 0,
  "metadata": {
    "colab": {
      "name": "Descriptiva_AAPL_diaria.ipynb",
      "provenance": [],
      "collapsed_sections": []
    },
    "kernelspec": {
      "name": "python3",
      "display_name": "Python 3"
    },
    "language_info": {
      "name": "python"
    }
  },
  "cells": [
    {
      "cell_type": "markdown",
      "metadata": {
        "id": "YGgg-iaLLhVG"
      },
      "source": [
        "Tweets sobre Apple\n",
        "\n",
        "Este conjunto de datos hace parte del documento publicado en la Conferencia Internacional IEEE 2020 sobre Big Data en el marco de la sexta sesión especial sobre minería de datos [ver articulo](https://ieeexplore.ieee.org/document/9378170), se crea para determinar posibles especuladores e influencers en un mercado de valores. "
      ]
    },
    {
      "cell_type": "markdown",
      "metadata": {
        "id": "1DzWFEA6Q5HQ"
      },
      "source": [
        "Algunas de las preguntas (tareas) interesantes que se pueden realizar en este conjunto de datos:\n",
        "\n",
        "1. Determinar la correlación entre el valor de mercado de la empresa con respecto a la opinión pública de esa empresa.\n",
        "2. Análisis de sentimiento de las empresas con una serie de tiempo en un gráfico y razonando las posibles subidas y bajadas.\n",
        "3. Evaluar a los usuarios de trolls que intentan ocupar la agenda social."
      ]
    },
    {
      "cell_type": "code",
      "metadata": {
        "id": "kJv79ecsVdr-"
      },
      "source": [
        "import pandas as pd"
      ],
      "execution_count": 1,
      "outputs": []
    },
    {
      "cell_type": "code",
      "metadata": {
        "id": "8DKCBKxpv54R"
      },
      "source": [
        "import matplotlib.pyplot as plt"
      ],
      "execution_count": 2,
      "outputs": []
    },
    {
      "cell_type": "code",
      "metadata": {
        "id": "eoZSk7R4HYM2"
      },
      "source": [
        "import numpy as np\n",
        "from sklearn.preprocessing import MinMaxScaler"
      ],
      "execution_count": 3,
      "outputs": []
    },
    {
      "cell_type": "code",
      "metadata": {
        "colab": {
          "base_uri": "https://localhost:8080/"
        },
        "id": "RqQuOAznVhn_",
        "outputId": "5c334f95-e603-43d6-8399-0cf35f218dd2"
      },
      "source": [
        "from google.colab import drive\n",
        "drive.mount('/content/drive')"
      ],
      "execution_count": 4,
      "outputs": [
        {
          "output_type": "stream",
          "text": [
            "Mounted at /content/drive\n"
          ],
          "name": "stdout"
        }
      ]
    },
    {
      "cell_type": "code",
      "metadata": {
        "colab": {
          "base_uri": "https://localhost:8080/"
        },
        "id": "BvMdM1iLb8ye",
        "outputId": "30b8f6f1-9afe-4f15-88dd-262b6aec9a4b"
      },
      "source": [
        "Tweet_all_AAPL = pd.read_csv('/content/drive/Shareddrives/Data Minning - Natural Language Procesing/Datos_Sentimiento/Tweet_all_AAPL.csv',sep=';',header=0)\n",
        "Tweet_all_AAPL.post_date = pd.to_datetime(Tweet_all_AAPL.post_date)\n",
        "Tweet_all_AAPL['retweetXcal'] = Tweet_all_AAPL.retweet_num*Tweet_all_AAPL.Calificacion_ajus"
      ],
      "execution_count": 5,
      "outputs": [
        {
          "output_type": "stream",
          "text": [
            "/usr/local/lib/python3.7/dist-packages/IPython/core/interactiveshell.py:2718: DtypeWarning: Columns (0) have mixed types.Specify dtype option on import or set low_memory=False.\n",
            "  interactivity=interactivity, compiler=compiler, result=result)\n"
          ],
          "name": "stderr"
        }
      ]
    },
    {
      "cell_type": "code",
      "metadata": {
        "id": "t2Ahvy2YcTUS"
      },
      "source": [
        "fin = pd.read_csv('/content/drive/Shareddrives/Data Minning - Natural Language Procesing/Datos_Sentimiento/AAPL_fin_2.csv',sep=';',header=0)\n",
        "fin[fin.retweetXcal.isnull()] = fin[fin.retweetXcal.isnull()].fillna(0)"
      ],
      "execution_count": 6,
      "outputs": []
    },
    {
      "cell_type": "code",
      "metadata": {
        "colab": {
          "base_uri": "https://localhost:8080/",
          "height": 408
        },
        "id": "mdzrmSwSGWvi",
        "outputId": "4e2f366f-d70e-4475-8b0c-8f398bfa1f8a"
      },
      "source": [
        "plt.boxplot(fin.retweetXcal)"
      ],
      "execution_count": null,
      "outputs": [
        {
          "output_type": "execute_result",
          "data": {
            "text/plain": [
              "{'boxes': [<matplotlib.lines.Line2D at 0x7fee6f788490>],\n",
              " 'caps': [<matplotlib.lines.Line2D at 0x7fee6fac9b90>,\n",
              "  <matplotlib.lines.Line2D at 0x7fee6f9f2a50>],\n",
              " 'fliers': [<matplotlib.lines.Line2D at 0x7fee6f6c4a10>],\n",
              " 'means': [],\n",
              " 'medians': [<matplotlib.lines.Line2D at 0x7fee6f6c4ed0>],\n",
              " 'whiskers': [<matplotlib.lines.Line2D at 0x7fee6f6b1dd0>,\n",
              "  <matplotlib.lines.Line2D at 0x7fee6f6e9910>]}"
            ]
          },
          "metadata": {
            "tags": []
          },
          "execution_count": 49
        },
        {
          "output_type": "display_data",
          "data": {
            "image/png": "[encoded data removed]",
            "text/plain": [
              "<Figure size 432x288 with 1 Axes>"
            ]
          },
          "metadata": {
            "tags": [],
            "needs_background": "light"
          }
        }
      ]
    },
    {
      "cell_type": "code",
      "metadata": {
        "colab": {
          "base_uri": "https://localhost:8080/"
        },
        "id": "LxCiwuamot7I",
        "outputId": "1159e0ce-d8b4-4598-de81-7b29e9e833e9"
      },
      "source": [
        "Tweet_all_AAPL.Ind_positivo"
      ],
      "execution_count": null,
      "outputs": [
        {
          "output_type": "execute_result",
          "data": {
            "text/plain": [
              "0          0.0\n",
              "1          0.0\n",
              "2          0.0\n",
              "3          0.0\n",
              "4          1.0\n",
              "          ... \n",
              "1423997    0.0\n",
              "1423998    0.0\n",
              "1423999    0.0\n",
              "1424000    1.0\n",
              "1424001    0.0\n",
              "Name: Ind_positivo, Length: 1424002, dtype: float64"
            ]
          },
          "metadata": {
            "tags": []
          },
          "execution_count": 87
        }
      ]
    },
    {
      "cell_type": "code",
      "metadata": {
        "colab": {
          "base_uri": "https://localhost:8080/"
        },
        "id": "PnZ957Vb8-Qt",
        "outputId": "5c6acfa9-a716-4675-9ece-030c3255c589"
      },
      "source": [
        "Tweet_all_AAPL.retweet_num.describe()"
      ],
      "execution_count": null,
      "outputs": [
        {
          "output_type": "execute_result",
          "data": {
            "text/plain": [
              "count    1.424000e+06\n",
              "mean     5.069438e-01\n",
              "std      7.137807e+00\n",
              "min      0.000000e+00\n",
              "25%      0.000000e+00\n",
              "50%      0.000000e+00\n",
              "75%      0.000000e+00\n",
              "max      9.990000e+02\n",
              "Name: retweet_num, dtype: float64"
            ]
          },
          "metadata": {
            "tags": []
          },
          "execution_count": 10
        }
      ]
    },
    {
      "cell_type": "code",
      "metadata": {
        "colab": {
          "base_uri": "https://localhost:8080/"
        },
        "id": "uUoEIsoVt-Ep",
        "outputId": "cc06bf48-f80d-444e-b882-eb776bfc2fa4"
      },
      "source": [
        "# Numero de tweets según clasificación\n",
        "# Calificacion=label_1*ind_1+label_4*ind_4;   \n",
        "Tweet_all_AAPL.groupby('Calificacion')['tweet_id'].count()"
      ],
      "execution_count": null,
      "outputs": [
        {
          "output_type": "execute_result",
          "data": {
            "text/plain": [
              "Calificacion\n",
              "-2.0    128501\n",
              "-1.5       947\n",
              "-1.0    633928\n",
              "-0.5       632\n",
              " 0.0    302604\n",
              " 0.5       790\n",
              " 1.0    233120\n",
              " 1.5      4148\n",
              " 2.0    119332\n",
              "Name: tweet_id, dtype: int64"
            ]
          },
          "metadata": {
            "tags": []
          },
          "execution_count": 11
        }
      ]
    },
    {
      "cell_type": "code",
      "metadata": {
        "colab": {
          "base_uri": "https://localhost:8080/"
        },
        "id": "n6b0wG-pubIY",
        "outputId": "95577330-26e9-4302-86f9-d7d50982c84b"
      },
      "source": [
        "Tweet_all_AAPL.groupby('Label_1')['tweet_id'].count()"
      ],
      "execution_count": null,
      "outputs": [
        {
          "output_type": "execute_result",
          "data": {
            "text/plain": [
              "Label_1\n",
              "-1.0    971448\n",
              " 1.0    452553\n",
              "Name: tweet_id, dtype: int64"
            ]
          },
          "metadata": {
            "tags": []
          },
          "execution_count": 13
        }
      ]
    },
    {
      "cell_type": "code",
      "metadata": {
        "colab": {
          "base_uri": "https://localhost:8080/"
        },
        "id": "z0yF3vy9xNFx",
        "outputId": "a3719ea6-de9e-4cab-ae58-9d62ce8d091c"
      },
      "source": [
        "Tweet_all_AAPL.groupby('Label_4')['tweet_id'].count()"
      ],
      "execution_count": null,
      "outputs": [
        {
          "output_type": "execute_result",
          "data": {
            "text/plain": [
              "Label_4\n",
              "-1.0    418415\n",
              "-0.5     71235\n",
              " 0.0    152993\n",
              " 0.5    143279\n",
              " 1.0    638079\n",
              "Name: tweet_id, dtype: int64"
            ]
          },
          "metadata": {
            "tags": []
          },
          "execution_count": 14
        }
      ]
    },
    {
      "cell_type": "code",
      "metadata": {
        "id": "7t6NcWzsxTRM"
      },
      "source": [
        "# retweets por tweet\n",
        "writer_retweet = (Tweet_all_AAPL.groupby('writer')['retweet_num'].sum()/Tweet_all_AAPL.groupby('writer')['retweet_num'].count()).sort_values(ascending=False)\n",
        "# likes por tweet\n",
        "writer_like = (Tweet_all_AAPL.groupby('writer')['like_num'].sum()/Tweet_all_AAPL.groupby('writer')['like_num'].count()).sort_values(ascending=False)\n",
        "# likes por tweet\n",
        "writer_count = Tweet_all_AAPL.groupby('writer')['like_num'].count().sort_values(ascending=False)"
      ],
      "execution_count": null,
      "outputs": []
    },
    {
      "cell_type": "code",
      "metadata": {
        "colab": {
          "base_uri": "https://localhost:8080/"
        },
        "id": "yLkE0zpGFFA_",
        "outputId": "04df854b-98d7-480a-ac1c-8e39bdcc0779"
      },
      "source": [
        "fin.info()"
      ],
      "execution_count": null,
      "outputs": [
        {
          "output_type": "stream",
          "text": [
            "<class 'pandas.core.frame.DataFrame'>\n",
            "RangeIndex: 1253 entries, 0 to 1252\n",
            "Data columns (total 11 columns):\n",
            " #   Column        Non-Null Count  Dtype  \n",
            "---  ------        --------------  -----  \n",
            " 0   post_date     1253 non-null   object \n",
            " 1   numero        1253 non-null   int64  \n",
            " 2   retweets      1253 non-null   float64\n",
            " 3   likes         1253 non-null   float64\n",
            " 4   positivo      1253 non-null   float64\n",
            " 5   negativo      1253 non-null   float64\n",
            " 6   dif_close     1253 non-null   float64\n",
            " 7   Indicadora    1253 non-null   int64  \n",
            " 8   dif_std       1253 non-null   float64\n",
            " 9   Indicadora_2  1253 non-null   int64  \n",
            " 10  retweetXcal   1252 non-null   float64\n",
            "dtypes: float64(7), int64(3), object(1)\n",
            "memory usage: 107.8+ KB\n"
          ],
          "name": "stdout"
        }
      ]
    }
  ]
}