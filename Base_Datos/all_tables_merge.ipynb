{
  "nbformat": 4,
  "nbformat_minor": 0,
  "metadata": {
    "colab": {
      "name": "all_tables_merge.ipynb",
      "provenance": [],
      "collapsed_sections": []
    },
    "kernelspec": {
      "name": "python3",
      "display_name": "Python 3"
    },
    "language_info": {
      "name": "python"
    }
  },
  "cells": [
    {
      "cell_type": "code",
      "metadata": {
        "id": "kq_IXtiVcDaR"
      },
      "source": [
        "#from sklearn.preprocessing import MinMaxScaler\n",
        "#import sqlalchemy\n",
        "import pandas as pd\n",
        "import datetime\n",
        "import numpy as np\n",
        "import matplotlib.pyplot as plt\n",
        "#import statsmodels.api as sm\n",
        "#import yfinance as yf"
      ],
      "execution_count": 1,
      "outputs": []
    },
    {
      "cell_type": "code",
      "metadata": {
        "colab": {
          "base_uri": "https://localhost:8080/"
        },
        "id": "J8ClrUQoc5iP",
        "outputId": "1dcdfd9a-4338-49d2-ee74-e9d482b6b152"
      },
      "source": [
        "from google.colab import drive\n",
        "drive.mount('/content/drive')"
      ],
      "execution_count": 2,
      "outputs": [
        {
          "output_type": "stream",
          "text": [
            "Mounted at /content/drive\n"
          ],
          "name": "stdout"
        }
      ]
    },
    {
      "cell_type": "markdown",
      "metadata": {
        "id": "t6FbYoFzAASO"
      },
      "source": [
        "Se carga la base de datos que contiene cada tweet con la calificación obtenida por los dos métodos propuestos para el análisis de sentimientos."
      ]
    },
    {
      "cell_type": "code",
      "metadata": {
        "id": "uA_kH1sn58FK"
      },
      "source": [
        "# Carga de calificaciones obtenidas por los dos métodos propuestos para cada Tweet de Apple\n",
        "sent_appl = pd.read_csv('/content/drive/Shareddrives/Data Minning - Natural Language Procesing/Datos_Sentimiento/AAPL_completo.csv', sep=';', header=0)"
      ],
      "execution_count": 10,
      "outputs": []
    },
    {
      "cell_type": "code",
      "metadata": {
        "colab": {
          "base_uri": "https://localhost:8080/",
          "height": 241
        },
        "id": "myryXrh07bXE",
        "outputId": "ef5a5177-5d81-43f8-f130-7805f2cc54cd"
      },
      "source": [
        "sent_appl.head()"
      ],
      "execution_count": 11,
      "outputs": [
        {
          "output_type": "execute_result",
          "data": {
            "text/html": [
              "<div>\n",
              "<style scoped>\n",
              "    .dataframe tbody tr th:only-of-type {\n",
              "        vertical-align: middle;\n",
              "    }\n",
              "\n",
              "    .dataframe tbody tr th {\n",
              "        vertical-align: top;\n",
              "    }\n",
              "\n",
              "    .dataframe thead th {\n",
              "        text-align: right;\n",
              "    }\n",
              "</style>\n",
              "<table border=\"1\" class=\"dataframe\">\n",
              "  <thead>\n",
              "    <tr style=\"text-align: right;\">\n",
              "      <th></th>\n",
              "      <th>tweet_id</th>\n",
              "      <th>Original</th>\n",
              "      <th>Procesado</th>\n",
              "      <th>Label_1</th>\n",
              "      <th>Score_1</th>\n",
              "      <th>Label_4</th>\n",
              "      <th>Score_4</th>\n",
              "    </tr>\n",
              "  </thead>\n",
              "  <tbody>\n",
              "    <tr>\n",
              "      <th>0</th>\n",
              "      <td>550803612197457920</td>\n",
              "      <td>#TOPTICKERTWEETS $AAPL $IMRS $BABA $EBAY $AMZN...</td>\n",
              "      <td>toptickertweets                      sentiqua...</td>\n",
              "      <td>NEGATIVE</td>\n",
              "      <td>0.996150</td>\n",
              "      <td>5 stars</td>\n",
              "      <td>0.812136</td>\n",
              "    </tr>\n",
              "    <tr>\n",
              "      <th>1</th>\n",
              "      <td>550803610825928706</td>\n",
              "      <td>#SENTISHIFTUP $K $FB $GOOGL $GS $GOLD $T $AAPL...</td>\n",
              "      <td>sentishiftup                      sentiquant ...</td>\n",
              "      <td>NEGATIVE</td>\n",
              "      <td>0.991630</td>\n",
              "      <td>5 stars</td>\n",
              "      <td>0.237722</td>\n",
              "    </tr>\n",
              "    <tr>\n",
              "      <th>2</th>\n",
              "      <td>550803225113157632</td>\n",
              "      <td>Rumor Roundup: What to expect when you're expe...</td>\n",
              "      <td>rumor roundup  what to expect when you re expe...</td>\n",
              "      <td>NEGATIVE</td>\n",
              "      <td>0.824964</td>\n",
              "      <td>3 stars</td>\n",
              "      <td>0.287090</td>\n",
              "    </tr>\n",
              "    <tr>\n",
              "      <th>3</th>\n",
              "      <td>550802957370159104</td>\n",
              "      <td>An $AAPL store line in Sapporo Japan for the \"...</td>\n",
              "      <td>an   store line in sapporo japan for the  luck...</td>\n",
              "      <td>NEGATIVE</td>\n",
              "      <td>0.995857</td>\n",
              "      <td>5 stars</td>\n",
              "      <td>0.413658</td>\n",
              "    </tr>\n",
              "    <tr>\n",
              "      <th>4</th>\n",
              "      <td>550802855129382912</td>\n",
              "      <td>$AAPL - Will $AAPL Give Second entry opportuni...</td>\n",
              "      <td>will   give second entry opportunity</td>\n",
              "      <td>POSITIVE</td>\n",
              "      <td>0.998913</td>\n",
              "      <td>4 stars</td>\n",
              "      <td>0.414050</td>\n",
              "    </tr>\n",
              "  </tbody>\n",
              "</table>\n",
              "</div>"
            ],
            "text/plain": [
              "             tweet_id  ...   Score_4\n",
              "0  550803612197457920  ...  0.812136\n",
              "1  550803610825928706  ...  0.237722\n",
              "2  550803225113157632  ...  0.287090\n",
              "3  550802957370159104  ...  0.413658\n",
              "4  550802855129382912  ...  0.414050\n",
              "\n",
              "[5 rows x 7 columns]"
            ]
          },
          "metadata": {
            "tags": []
          },
          "execution_count": 11
        }
      ]
    },
    {
      "cell_type": "markdown",
      "metadata": {
        "id": "FvnwD5SsAQrp"
      },
      "source": [
        "Recodificación de las calificaciones de sentimientos para cada Tweet."
      ]
    },
    {
      "cell_type": "code",
      "metadata": {
        "id": "DpGICKle59TA"
      },
      "source": [
        "# Recodificación de las categorias del análisis\n",
        "sent_appl.Label_1 = sent_appl.Label_1.replace(['NEGATIVE','POSITIVE'],[-1,1])\n",
        "sent_appl.Label_4 = sent_appl.Label_4.replace(['1 star','2 stars','3 stars','4 stars','5 stars'],[-1,-0.5,0,0.5,1])\n",
        "\n",
        "# Añade columnas\n",
        "# Se establecen 0.95 y 0.5 como scores que deben superar los métodos 1 y 4 para considerarse validos \n",
        "sent_appl['Score_1_ind']=(sent_appl['Score_1']>0.95)*1\n",
        "sent_appl['Score_4_ind']=(sent_appl['Score_4']>0.5)*1\n",
        "\n",
        "#Calificacion combinada\n",
        "# l1:label_1; l4:label_4; s1:score_1; s4:score_4; I1:1 si s1>\\alpha; I4:1 si s4>\\alpha (0 en otro caso).\n",
        "# sum_label_rep = I1*l1+I4*l4\n",
        "sent_appl['Calificacion']=(sent_appl['Score_1_ind']*sent_appl['Label_1'])+(sent_appl['Score_4_ind']*sent_appl['Label_4'])"
      ],
      "execution_count": 12,
      "outputs": []
    },
    {
      "cell_type": "markdown",
      "metadata": {
        "id": "afSzCgnuAX0n"
      },
      "source": [
        "Debido al procesamiento algunos tweets quedan vacios, por lo tanto se identifican."
      ]
    },
    {
      "cell_type": "code",
      "metadata": {
        "colab": {
          "base_uri": "https://localhost:8080/"
        },
        "id": "2tr8lCOH6AQO",
        "outputId": "3d7e05bb-fe23-446e-cce0-275194561a44"
      },
      "source": [
        "# Identificar espacios en blanco de 'Procesado' y poner 'vacio' en cada espacio\n",
        "# Hay hasta 21   \n",
        "for i in range(0, 220):\n",
        "  sent_appl.Procesado = sent_appl.Procesado.replace([str(' '*i)],['vacio'])#+str(i)])\n",
        "sum(sent_appl.Procesado=='vacio') "
      ],
      "execution_count": 13,
      "outputs": [
        {
          "output_type": "execute_result",
          "data": {
            "text/plain": [
              "4112"
            ]
          },
          "metadata": {
            "tags": []
          },
          "execution_count": 13
        }
      ]
    },
    {
      "cell_type": "code",
      "metadata": {
        "id": "oK2NnNKNAiSF"
      },
      "source": [
        ""
      ],
      "execution_count": null,
      "outputs": []
    },
    {
      "cell_type": "markdown",
      "metadata": {
        "id": "9-OCFM7PAm2o"
      },
      "source": [
        "Se construye Califiación ajustada a partir de la Califiación planteada anteriormente."
      ]
    },
    {
      "cell_type": "code",
      "metadata": {
        "colab": {
          "base_uri": "https://localhost:8080/"
        },
        "id": "2xc0papA6F9b",
        "outputId": "d0bd87a3-9750-4c80-c20d-c630400162c6"
      },
      "source": [
        "# DataFrame con la caificación e identificadores de positividad o negatividad\n",
        "\n",
        "#sent_appl_no_vacio = sent_appl[sent_appl.Original!='vacio']\n",
        "cal_APPL = sent_appl\n",
        "#cal_APPL = sent_appl.rename(columns={'sum_label_rep':'Calificación'})\n",
        "cal_APPL = cal_APPL[['tweet_id', 'Procesado', 'Calificacion','Label_1', 'Score_1', 'Label_4', 'Score_4']]\n",
        "cal_APPL['Calificacion_ajus']=cal_APPL['Calificacion'].replace([2,1.5,1,0.5,0,-0.5,-1,-1.5,-2],[1,1,1,0,0,0,-1,-1,-1])\n",
        "cal_APPL['Ind_positivo']=cal_APPL['Calificacion_ajus'].replace([1,0,-1],[1,0,0])\n",
        "cal_APPL['Ind_negativo']=cal_APPL['Calificacion_ajus'].replace([1,0,-1],[0,0,1])"
      ],
      "execution_count": 14,
      "outputs": [
        {
          "output_type": "stream",
          "text": [
            "/usr/local/lib/python3.7/dist-packages/ipykernel_launcher.py:7: SettingWithCopyWarning: \n",
            "A value is trying to be set on a copy of a slice from a DataFrame.\n",
            "Try using .loc[row_indexer,col_indexer] = value instead\n",
            "\n",
            "See the caveats in the documentation: https://pandas.pydata.org/pandas-docs/stable/user_guide/indexing.html#returning-a-view-versus-a-copy\n",
            "  import sys\n",
            "/usr/local/lib/python3.7/dist-packages/ipykernel_launcher.py:8: SettingWithCopyWarning: \n",
            "A value is trying to be set on a copy of a slice from a DataFrame.\n",
            "Try using .loc[row_indexer,col_indexer] = value instead\n",
            "\n",
            "See the caveats in the documentation: https://pandas.pydata.org/pandas-docs/stable/user_guide/indexing.html#returning-a-view-versus-a-copy\n",
            "  \n"
          ],
          "name": "stderr"
        }
      ]
    },
    {
      "cell_type": "code",
      "metadata": {
        "colab": {
          "base_uri": "https://localhost:8080/",
          "height": 258
        },
        "id": "c8-Tnq8_Gkbu",
        "outputId": "dbb08c46-beaa-4682-b587-fc8ccb508171"
      },
      "source": [
        "cal_APPL.head()"
      ],
      "execution_count": 15,
      "outputs": [
        {
          "output_type": "execute_result",
          "data": {
            "text/html": [
              "<div>\n",
              "<style scoped>\n",
              "    .dataframe tbody tr th:only-of-type {\n",
              "        vertical-align: middle;\n",
              "    }\n",
              "\n",
              "    .dataframe tbody tr th {\n",
              "        vertical-align: top;\n",
              "    }\n",
              "\n",
              "    .dataframe thead th {\n",
              "        text-align: right;\n",
              "    }\n",
              "</style>\n",
              "<table border=\"1\" class=\"dataframe\">\n",
              "  <thead>\n",
              "    <tr style=\"text-align: right;\">\n",
              "      <th></th>\n",
              "      <th>tweet_id</th>\n",
              "      <th>Procesado</th>\n",
              "      <th>Calificacion</th>\n",
              "      <th>Label_1</th>\n",
              "      <th>Score_1</th>\n",
              "      <th>Label_4</th>\n",
              "      <th>Score_4</th>\n",
              "      <th>Calificacion_ajus</th>\n",
              "      <th>Ind_positivo</th>\n",
              "      <th>Ind_negativo</th>\n",
              "    </tr>\n",
              "  </thead>\n",
              "  <tbody>\n",
              "    <tr>\n",
              "      <th>0</th>\n",
              "      <td>550803612197457920</td>\n",
              "      <td>toptickertweets                      sentiqua...</td>\n",
              "      <td>0.0</td>\n",
              "      <td>-1</td>\n",
              "      <td>0.996150</td>\n",
              "      <td>1.0</td>\n",
              "      <td>0.812136</td>\n",
              "      <td>0.0</td>\n",
              "      <td>0.0</td>\n",
              "      <td>0.0</td>\n",
              "    </tr>\n",
              "    <tr>\n",
              "      <th>1</th>\n",
              "      <td>550803610825928706</td>\n",
              "      <td>sentishiftup                      sentiquant ...</td>\n",
              "      <td>-1.0</td>\n",
              "      <td>-1</td>\n",
              "      <td>0.991630</td>\n",
              "      <td>1.0</td>\n",
              "      <td>0.237722</td>\n",
              "      <td>-1.0</td>\n",
              "      <td>0.0</td>\n",
              "      <td>1.0</td>\n",
              "    </tr>\n",
              "    <tr>\n",
              "      <th>2</th>\n",
              "      <td>550803225113157632</td>\n",
              "      <td>rumor roundup  what to expect when you re expe...</td>\n",
              "      <td>0.0</td>\n",
              "      <td>-1</td>\n",
              "      <td>0.824964</td>\n",
              "      <td>0.0</td>\n",
              "      <td>0.287090</td>\n",
              "      <td>0.0</td>\n",
              "      <td>0.0</td>\n",
              "      <td>0.0</td>\n",
              "    </tr>\n",
              "    <tr>\n",
              "      <th>3</th>\n",
              "      <td>550802957370159104</td>\n",
              "      <td>an   store line in sapporo japan for the  luck...</td>\n",
              "      <td>-1.0</td>\n",
              "      <td>-1</td>\n",
              "      <td>0.995857</td>\n",
              "      <td>1.0</td>\n",
              "      <td>0.413658</td>\n",
              "      <td>-1.0</td>\n",
              "      <td>0.0</td>\n",
              "      <td>1.0</td>\n",
              "    </tr>\n",
              "    <tr>\n",
              "      <th>4</th>\n",
              "      <td>550802855129382912</td>\n",
              "      <td>will   give second entry opportunity</td>\n",
              "      <td>1.0</td>\n",
              "      <td>1</td>\n",
              "      <td>0.998913</td>\n",
              "      <td>0.5</td>\n",
              "      <td>0.414050</td>\n",
              "      <td>1.0</td>\n",
              "      <td>1.0</td>\n",
              "      <td>0.0</td>\n",
              "    </tr>\n",
              "  </tbody>\n",
              "</table>\n",
              "</div>"
            ],
            "text/plain": [
              "             tweet_id  ... Ind_negativo\n",
              "0  550803612197457920  ...          0.0\n",
              "1  550803610825928706  ...          1.0\n",
              "2  550803225113157632  ...          0.0\n",
              "3  550802957370159104  ...          1.0\n",
              "4  550802855129382912  ...          0.0\n",
              "\n",
              "[5 rows x 10 columns]"
            ]
          },
          "metadata": {
            "tags": []
          },
          "execution_count": 15
        }
      ]
    },
    {
      "cell_type": "code",
      "metadata": {
        "id": "ISJghg8I8B1G"
      },
      "source": [
        "#cal_APPL.head()\n",
        "import os \n",
        "import pandas as pd\n",
        "\n",
        "path = \"/content/drive/Shareddrives/Data Minning - Natural Language Procesing/Datos_Sentimiento/\" # Path to the folder you wish to keep your file under\n",
        "file_name = os.path.join(path,'Calif_AAPL.csv')\n",
        "cal_APPL.to_csv(file_name, sep=';',index=False)"
      ],
      "execution_count": null,
      "outputs": []
    },
    {
      "cell_type": "code",
      "metadata": {
        "id": "Mc5iIP9CA2V_"
      },
      "source": [
        ""
      ],
      "execution_count": null,
      "outputs": []
    },
    {
      "cell_type": "markdown",
      "metadata": {
        "id": "dTF1RPgNA4HG"
      },
      "source": [
        "Se carga la base con los tweets y las calificaciones y se cruza con los tweets de la base de datos en MariaDB."
      ]
    },
    {
      "cell_type": "code",
      "metadata": {
        "id": "Zu10ygJ483fQ"
      },
      "source": [
        "Calif_AAPL = pd.read_csv('/content/drive/Shareddrives/Data Minning - Natural Language Procesing/Datos_Sentimiento/Calif_AAPL.csv',sep=';',header=0)"
      ],
      "execution_count": 9,
      "outputs": []
    },
    {
      "cell_type": "code",
      "metadata": {
        "id": "qXpRvfQhc8Xf"
      },
      "source": [
        "Company_Tweet = pd.read_csv('/content/drive/Shareddrives/Data Minning - Natural Language Procesing/Datos_Sentimiento/Company_Tweet_MariaDB.csv',sep=',',header=0)\n",
        "Tweet = pd.read_csv('/content/drive/Shareddrives/Data Minning - Natural Language Procesing/Datos_Sentimiento/Tweet_MariaDB.csv',sep=',',header=0)"
      ],
      "execution_count": null,
      "outputs": []
    },
    {
      "cell_type": "code",
      "metadata": {
        "id": "XCOBCqeeho-o"
      },
      "source": [
        "# Unión tabla company_tweet con la de tweet para corroborar que concuerden \n",
        "Company_Tweet_Tweet = Company_Tweet.merge(Tweet,how= 'inner',on='tweet_id')\n",
        "Company_Tweet_Tweet = Company_Tweet_Tweet[Company_Tweet_Tweet.ticker_symbol=='AAPL']"
      ],
      "execution_count": null,
      "outputs": []
    },
    {
      "cell_type": "code",
      "metadata": {
        "id": "is7Xeog89xKE"
      },
      "source": [
        "Tweet_all = Calif_AAPL.merge(Company_Tweet_Tweet, how='inner', on='tweet_id')"
      ],
      "execution_count": null,
      "outputs": []
    },
    {
      "cell_type": "code",
      "metadata": {
        "colab": {
          "base_uri": "https://localhost:8080/",
          "height": 417
        },
        "id": "TFm4PCBiG0uz",
        "outputId": "081a78a8-0104-4658-a4c0-36dc9c0c8ea6"
      },
      "source": [
        "Tweet_all.head()"
      ],
      "execution_count": null,
      "outputs": [
        {
          "output_type": "execute_result",
          "data": {
            "text/html": [
              "<div>\n",
              "<style scoped>\n",
              "    .dataframe tbody tr th:only-of-type {\n",
              "        vertical-align: middle;\n",
              "    }\n",
              "\n",
              "    .dataframe tbody tr th {\n",
              "        vertical-align: top;\n",
              "    }\n",
              "\n",
              "    .dataframe thead th {\n",
              "        text-align: right;\n",
              "    }\n",
              "</style>\n",
              "<table border=\"1\" class=\"dataframe\">\n",
              "  <thead>\n",
              "    <tr style=\"text-align: right;\">\n",
              "      <th></th>\n",
              "      <th>tweet_id</th>\n",
              "      <th>Procesado</th>\n",
              "      <th>Calificacion</th>\n",
              "      <th>Label_1</th>\n",
              "      <th>Score_1</th>\n",
              "      <th>Label_4</th>\n",
              "      <th>Score_4</th>\n",
              "      <th>Calificacion_ajus</th>\n",
              "      <th>Ind_positivo</th>\n",
              "      <th>Ind_negativo</th>\n",
              "      <th>ticker_symbol</th>\n",
              "      <th>writer</th>\n",
              "      <th>post_date</th>\n",
              "      <th>body</th>\n",
              "      <th>retweet_num</th>\n",
              "      <th>like_num</th>\n",
              "    </tr>\n",
              "  </thead>\n",
              "  <tbody>\n",
              "    <tr>\n",
              "      <th>0</th>\n",
              "      <td>550803612197457920</td>\n",
              "      <td>toptickertweets                      sentiqua...</td>\n",
              "      <td>0.0</td>\n",
              "      <td>-1</td>\n",
              "      <td>0.996150</td>\n",
              "      <td>1.0</td>\n",
              "      <td>0.812136</td>\n",
              "      <td>0.0</td>\n",
              "      <td>0.0</td>\n",
              "      <td>0.0</td>\n",
              "      <td>AAPL</td>\n",
              "      <td>SentiQuant</td>\n",
              "      <td>2015-01-01</td>\n",
              "      <td>#TOPTICKERTWEETS $AAPL $IMRS $BABA $EBAY $AMZN...</td>\n",
              "      <td>0</td>\n",
              "      <td>1</td>\n",
              "    </tr>\n",
              "    <tr>\n",
              "      <th>1</th>\n",
              "      <td>550803610825928706</td>\n",
              "      <td>sentishiftup                      sentiquant ...</td>\n",
              "      <td>-1.0</td>\n",
              "      <td>-1</td>\n",
              "      <td>0.991630</td>\n",
              "      <td>1.0</td>\n",
              "      <td>0.237722</td>\n",
              "      <td>-1.0</td>\n",
              "      <td>0.0</td>\n",
              "      <td>1.0</td>\n",
              "      <td>AAPL</td>\n",
              "      <td>SentiQuant</td>\n",
              "      <td>2015-01-01</td>\n",
              "      <td>#SENTISHIFTUP $K $FB $GOOGL $GS $GOLD $T $AAPL...</td>\n",
              "      <td>0</td>\n",
              "      <td>1</td>\n",
              "    </tr>\n",
              "    <tr>\n",
              "      <th>2</th>\n",
              "      <td>550803225113157632</td>\n",
              "      <td>rumor roundup  what to expect when you re expe...</td>\n",
              "      <td>0.0</td>\n",
              "      <td>-1</td>\n",
              "      <td>0.824964</td>\n",
              "      <td>0.0</td>\n",
              "      <td>0.287090</td>\n",
              "      <td>0.0</td>\n",
              "      <td>0.0</td>\n",
              "      <td>0.0</td>\n",
              "      <td>AAPL</td>\n",
              "      <td>MacHashNews</td>\n",
              "      <td>2015-01-01</td>\n",
              "      <td>Rumor Roundup: What to expect when you're expe...</td>\n",
              "      <td>0</td>\n",
              "      <td>0</td>\n",
              "    </tr>\n",
              "    <tr>\n",
              "      <th>3</th>\n",
              "      <td>550802957370159104</td>\n",
              "      <td>an   store line in sapporo japan for the  luck...</td>\n",
              "      <td>-1.0</td>\n",
              "      <td>-1</td>\n",
              "      <td>0.995857</td>\n",
              "      <td>1.0</td>\n",
              "      <td>0.413658</td>\n",
              "      <td>-1.0</td>\n",
              "      <td>0.0</td>\n",
              "      <td>1.0</td>\n",
              "      <td>AAPL</td>\n",
              "      <td>WaltLightShed</td>\n",
              "      <td>2015-01-01</td>\n",
              "      <td>An $AAPL store line in Sapporo Japan for the \"...</td>\n",
              "      <td>4</td>\n",
              "      <td>4</td>\n",
              "    </tr>\n",
              "    <tr>\n",
              "      <th>4</th>\n",
              "      <td>550802855129382912</td>\n",
              "      <td>will   give second entry opportunity</td>\n",
              "      <td>1.0</td>\n",
              "      <td>1</td>\n",
              "      <td>0.998913</td>\n",
              "      <td>0.5</td>\n",
              "      <td>0.414050</td>\n",
              "      <td>1.0</td>\n",
              "      <td>1.0</td>\n",
              "      <td>0.0</td>\n",
              "      <td>AAPL</td>\n",
              "      <td>2waystrading</td>\n",
              "      <td>2015-01-01</td>\n",
              "      <td>$AAPL - Will $AAPL Give Second entry opportuni...</td>\n",
              "      <td>0</td>\n",
              "      <td>0</td>\n",
              "    </tr>\n",
              "  </tbody>\n",
              "</table>\n",
              "</div>"
            ],
            "text/plain": [
              "             tweet_id  ... like_num\n",
              "0  550803612197457920  ...        1\n",
              "1  550803610825928706  ...        1\n",
              "2  550803225113157632  ...        0\n",
              "3  550802957370159104  ...        4\n",
              "4  550802855129382912  ...        0\n",
              "\n",
              "[5 rows x 16 columns]"
            ]
          },
          "metadata": {
            "tags": []
          },
          "execution_count": 128
        }
      ]
    },
    {
      "cell_type": "code",
      "metadata": {
        "id": "EN1utbynCOmj"
      },
      "source": [
        "#cal_APPL.head()\n",
        "#import os \n",
        "#import pandas as pd\n",
        "\n",
        "path = \"/content/drive/Shareddrives/Data Minning - Natural Language Procesing/Datos_Sentimiento/\" # Path to the folder you wish to keep your file under\n",
        "file_name = os.path.join(path,'Tweet_all_AAPL.csv')\n",
        "Tweet_all.to_csv(file_name, sep=';',index=False)"
      ],
      "execution_count": null,
      "outputs": []
    },
    {
      "cell_type": "markdown",
      "metadata": {
        "id": "Cu2dPge6BBMg"
      },
      "source": [
        "Tweet_all_AAPL es la base de datos que contiene cada tweet con la totalidad de información disponible."
      ]
    },
    {
      "cell_type": "code",
      "metadata": {
        "colab": {
          "base_uri": "https://localhost:8080/"
        },
        "id": "NJMxy6ogCqRa",
        "outputId": "c79f3df6-ca7f-456d-b36a-853db39a352e"
      },
      "source": [
        "Tweet_all_AAPL = pd.read_csv('/content/drive/Shareddrives/Data Minning - Natural Language Procesing/Datos_Sentimiento/Tweet_all_AAPL.csv',sep=';',header=0)"
      ],
      "execution_count": null,
      "outputs": [
        {
          "output_type": "stream",
          "text": [
            "/usr/local/lib/python3.7/dist-packages/IPython/core/interactiveshell.py:2718: DtypeWarning: Columns (0) have mixed types.Specify dtype option on import or set low_memory=False.\n",
            "  interactivity=interactivity, compiler=compiler, result=result)\n"
          ],
          "name": "stderr"
        }
      ]
    },
    {
      "cell_type": "code",
      "metadata": {
        "colab": {
          "base_uri": "https://localhost:8080/"
        },
        "id": "xAr-0ndG9r0v",
        "outputId": "8451a9f1-7860-4db5-b86c-438c8b259b5a"
      },
      "source": [
        "print(Tweet_all_AAPL.shape)\n",
        "print(Calif_AAPL.shape)\n",
        "print(Company_Tweet_Tweet.shape)"
      ],
      "execution_count": null,
      "outputs": [
        {
          "output_type": "stream",
          "text": [
            "(1424002, 11)\n",
            "(1424013, 5)\n",
            "(1425001, 7)\n"
          ],
          "name": "stdout"
        }
      ]
    },
    {
      "cell_type": "code",
      "metadata": {
        "colab": {
          "base_uri": "https://localhost:8080/"
        },
        "id": "Y7fYgX5tlgTp",
        "outputId": "c6d7a7ef-ef2e-482e-f7fa-fd80932fd26c"
      },
      "source": [
        "print(sum(Company_Tweet_Tweet.retweet_num==0))\n",
        "print(sum(Company_Tweet_Tweet.retweet_num==1))\n",
        "print(sum(Company_Tweet_Tweet.retweet_num==2))\n",
        "print(sum(Company_Tweet_Tweet.retweet_num==3))\n",
        "print(sum(Company_Tweet_Tweet.retweet_num==4))\n",
        "print(sum(Company_Tweet_Tweet.retweet_num==5))\n",
        "print(sum(Company_Tweet_Tweet.retweet_num==6))\n",
        "print(sum(Company_Tweet_Tweet.retweet_num==7))\n",
        "print(sum(Company_Tweet_Tweet.retweet_num==8))\n",
        "print(sum(Company_Tweet_Tweet.retweet_num==9))\n",
        "print(sum(Company_Tweet_Tweet.retweet_num==10))\n",
        "print(sum(Company_Tweet_Tweet.retweet_num==11))\n",
        "print(sum(Company_Tweet_Tweet.retweet_num==12))\n",
        "print(sum(Company_Tweet_Tweet.retweet_num==13))\n",
        "print(sum(Company_Tweet_Tweet.retweet_num==14))\n",
        "print(sum(Company_Tweet_Tweet.retweet_num==15))\n",
        "print(sum(Company_Tweet_Tweet.retweet_num==16))\n",
        "print(sum(Company_Tweet_Tweet.retweet_num==17))\n",
        "print(sum(Company_Tweet_Tweet.retweet_num==18))\n",
        "print(sum(Company_Tweet_Tweet.retweet_num==19))\n",
        "print(sum(Company_Tweet_Tweet.retweet_num==20))\n",
        "print(sum(Company_Tweet_Tweet.retweet_num==21))"
      ],
      "execution_count": null,
      "outputs": [
        {
          "output_type": "stream",
          "text": [
            "1203466\n",
            "139841\n",
            "36341\n",
            "14776\n",
            "7812\n",
            "4671\n",
            "3287\n",
            "2232\n",
            "1664\n",
            "1254\n",
            "990\n",
            "843\n",
            "667\n",
            "562\n",
            "472\n",
            "392\n",
            "381\n",
            "342\n",
            "301\n",
            "258\n",
            "280\n",
            "206\n"
          ],
          "name": "stdout"
        }
      ]
    },
    {
      "cell_type": "code",
      "metadata": {
        "colab": {
          "base_uri": "https://localhost:8080/"
        },
        "id": "UfapYBepzv9i",
        "outputId": "b1f39ca8-c070-4abb-d293-ea7a41cc8bbc"
      },
      "source": [
        "print(max(Company_Tweet_Tweet.retweet_num))\n",
        "print(sum((Company_Tweet_Tweet.retweet_num>=0)&(Company_Tweet_Tweet.retweet_num<=10)))\n",
        "print(sum((Company_Tweet_Tweet.retweet_num>=11)&(Company_Tweet_Tweet.retweet_num<=50)))\n",
        "print(sum((Company_Tweet_Tweet.retweet_num>=51)&(Company_Tweet_Tweet.retweet_num<=100)))\n",
        "print(sum((Company_Tweet_Tweet.retweet_num>=101)&(Company_Tweet_Tweet.retweet_num<=999)))"
      ],
      "execution_count": null,
      "outputs": [
        {
          "output_type": "stream",
          "text": [
            "999\n",
            "1416334\n",
            "7321\n",
            "889\n",
            "457\n"
          ],
          "name": "stdout"
        }
      ]
    },
    {
      "cell_type": "code",
      "metadata": {
        "colab": {
          "base_uri": "https://localhost:8080/"
        },
        "id": "D1lJTHQ1lw_h",
        "outputId": "94fb808d-b073-43aa-9106-30a55ee2f97e"
      },
      "source": [
        "print(max(Company_Tweet_Tweet.like_num))\n",
        "print(sum((Company_Tweet_Tweet.like_num>=0)&(Company_Tweet_Tweet.like_num<=10)))\n",
        "print(sum((Company_Tweet_Tweet.like_num>=11)&(Company_Tweet_Tweet.like_num<=50)))\n",
        "print(sum((Company_Tweet_Tweet.like_num>=51)&(Company_Tweet_Tweet.like_num<=100)))\n",
        "print(sum((Company_Tweet_Tweet.like_num>=101)&(Company_Tweet_Tweet.like_num<=924)))"
      ],
      "execution_count": null,
      "outputs": [
        {
          "output_type": "stream",
          "text": [
            "924\n",
            "1404997\n",
            "17320\n",
            "1740\n",
            "944\n"
          ],
          "name": "stdout"
        }
      ]
    }
  ]
}