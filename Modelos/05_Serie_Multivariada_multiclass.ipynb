{
  "nbformat": 4,
  "nbformat_minor": 0,
  "metadata": {
    "kernelspec": {
      "display_name": "Python 3",
      "language": "python",
      "name": "python3"
    },
    "language_info": {
      "codemirror_mode": {
        "name": "ipython",
        "version": 3
      },
      "file_extension": ".py",
      "mimetype": "text/x-python",
      "name": "python",
      "nbconvert_exporter": "python",
      "pygments_lexer": "ipython3",
      "version": "3.8.8"
    },
    "colab": {
      "name": "05_Serie_Multivariada_multiclass.ipynb",
      "provenance": [],
      "collapsed_sections": [
        "5spOZmFKz2Ow",
        "EeOZOGB1z2Oy",
        "hZqy01W4z2PE",
        "dvpl4BZTz2PF",
        "GXcRWbw3z2PI",
        "uT9f8V36z2PK",
        "cjmPHsZaz2PK"
      ]
    }
  },
  "cells": [
    {
      "cell_type": "markdown",
      "metadata": {
        "id": "8OVIQpq1z-dH"
      },
      "source": [
        "# **Serie multivariada**"
      ]
    },
    {
      "cell_type": "markdown",
      "metadata": {
        "id": "TE_5MH0kz2Op"
      },
      "source": [
        "## <span style=\"color:blue\">Importar las librería requeridas</span>"
      ]
    },
    {
      "cell_type": "code",
      "metadata": {
        "colab": {
          "base_uri": "https://localhost:8080/"
        },
        "id": "RSTLVrNez2Oq",
        "outputId": "ea01f0cd-a436-4553-e6b8-656bc4b264aa"
      },
      "source": [
        "import tensorflow as tf\n",
        "\n",
        "import matplotlib as mpl\n",
        "import matplotlib.pyplot as plt\n",
        "import numpy as np\n",
        "import os\n",
        "import pandas as pd\n",
        "\n",
        "mpl.rcParams['figure.figsize'] = (8, 6)\n",
        "mpl.rcParams['axes.grid'] = False\n",
        "\n",
        "print('version de tf: ', tf.__version__)\n",
        "\n",
        "from tensorflow.keras.layers import Input, LSTM, Dense, Dropout\n",
        "from tensorflow.keras.models import Model\n",
        "from tensorflow.keras.optimizers import Adam "
      ],
      "execution_count": 1,
      "outputs": [
        {
          "output_type": "stream",
          "text": [
            "version de tf:  2.5.0\n"
          ],
          "name": "stdout"
        }
      ]
    },
    {
      "cell_type": "markdown",
      "metadata": {
        "id": "Ou_GInpyz2Os"
      },
      "source": [
        "## <span style=\"color:blue\">Datos - AAPL </span> \n"
      ]
    },
    {
      "cell_type": "code",
      "metadata": {
        "colab": {
          "base_uri": "https://localhost:8080/"
        },
        "id": "EZqQ224_z2Ot",
        "outputId": "37788513-8723-46d5-964d-c02fc8432885"
      },
      "source": [
        "from google.colab import drive\n",
        "drive.mount('/content/drive')"
      ],
      "execution_count": 2,
      "outputs": [
        {
          "output_type": "stream",
          "text": [
            "Mounted at /content/drive\n"
          ],
          "name": "stdout"
        }
      ]
    },
    {
      "cell_type": "code",
      "metadata": {
        "id": "n0MaT2yVz2Ou"
      },
      "source": [
        "df = pd.read_csv('/content/drive/MyDrive/Colab Notebooks/UN_Mineria_de_datos/Proyecto/Archivos/Datos_Sentimiento/AAPL_fin_2.csv', sep=';', header=0)"
      ],
      "execution_count": 3,
      "outputs": []
    },
    {
      "cell_type": "markdown",
      "metadata": {
        "id": "TfQHxcnZz2Ov"
      },
      "source": [
        "### Una primera mirada a los datos "
      ]
    },
    {
      "cell_type": "code",
      "metadata": {
        "colab": {
          "base_uri": "https://localhost:8080/",
          "height": 204
        },
        "id": "mrLydpywz2Ov",
        "outputId": "6660536c-9d47-41bb-abff-90c2e863755a"
      },
      "source": [
        "df.head()"
      ],
      "execution_count": 4,
      "outputs": [
        {
          "output_type": "execute_result",
          "data": {
            "text/html": [
              "<div>\n",
              "<style scoped>\n",
              "    .dataframe tbody tr th:only-of-type {\n",
              "        vertical-align: middle;\n",
              "    }\n",
              "\n",
              "    .dataframe tbody tr th {\n",
              "        vertical-align: top;\n",
              "    }\n",
              "\n",
              "    .dataframe thead th {\n",
              "        text-align: right;\n",
              "    }\n",
              "</style>\n",
              "<table border=\"1\" class=\"dataframe\">\n",
              "  <thead>\n",
              "    <tr style=\"text-align: right;\">\n",
              "      <th></th>\n",
              "      <th>post_date</th>\n",
              "      <th>numero</th>\n",
              "      <th>retweets</th>\n",
              "      <th>likes</th>\n",
              "      <th>positivo</th>\n",
              "      <th>negativo</th>\n",
              "      <th>dif_close</th>\n",
              "      <th>Indicadora</th>\n",
              "      <th>dif_std</th>\n",
              "      <th>Indicadora_2</th>\n",
              "      <th>retweetXcal</th>\n",
              "    </tr>\n",
              "  </thead>\n",
              "  <tbody>\n",
              "    <tr>\n",
              "      <th>0</th>\n",
              "      <td>2015-01-02</td>\n",
              "      <td>867</td>\n",
              "      <td>2.115340</td>\n",
              "      <td>0.504037</td>\n",
              "      <td>0.239908</td>\n",
              "      <td>0.517878</td>\n",
              "      <td>-0.770000</td>\n",
              "      <td>0</td>\n",
              "      <td>-0.060877</td>\n",
              "      <td>0</td>\n",
              "      <td>0.342421</td>\n",
              "    </tr>\n",
              "    <tr>\n",
              "      <th>1</th>\n",
              "      <td>2015-01-05</td>\n",
              "      <td>1145</td>\n",
              "      <td>0.360699</td>\n",
              "      <td>0.517031</td>\n",
              "      <td>0.248035</td>\n",
              "      <td>0.449782</td>\n",
              "      <td>0.002501</td>\n",
              "      <td>0</td>\n",
              "      <td>0.168522</td>\n",
              "      <td>0</td>\n",
              "      <td>0.024213</td>\n",
              "    </tr>\n",
              "    <tr>\n",
              "      <th>2</th>\n",
              "      <td>2015-01-06</td>\n",
              "      <td>1190</td>\n",
              "      <td>0.190756</td>\n",
              "      <td>0.393277</td>\n",
              "      <td>0.288235</td>\n",
              "      <td>0.389916</td>\n",
              "      <td>0.372499</td>\n",
              "      <td>0</td>\n",
              "      <td>0.278396</td>\n",
              "      <td>0</td>\n",
              "      <td>-0.308370</td>\n",
              "    </tr>\n",
              "    <tr>\n",
              "      <th>3</th>\n",
              "      <td>2015-01-07</td>\n",
              "      <td>1087</td>\n",
              "      <td>0.191352</td>\n",
              "      <td>0.507820</td>\n",
              "      <td>0.261270</td>\n",
              "      <td>0.433303</td>\n",
              "      <td>1.035000</td>\n",
              "      <td>1</td>\n",
              "      <td>0.475129</td>\n",
              "      <td>1</td>\n",
              "      <td>-0.091346</td>\n",
              "    </tr>\n",
              "    <tr>\n",
              "      <th>4</th>\n",
              "      <td>2015-01-08</td>\n",
              "      <td>1491</td>\n",
              "      <td>0.334004</td>\n",
              "      <td>0.570758</td>\n",
              "      <td>0.335345</td>\n",
              "      <td>0.396378</td>\n",
              "      <td>0.030001</td>\n",
              "      <td>0</td>\n",
              "      <td>0.176689</td>\n",
              "      <td>0</td>\n",
              "      <td>0.038153</td>\n",
              "    </tr>\n",
              "  </tbody>\n",
              "</table>\n",
              "</div>"
            ],
            "text/plain": [
              "    post_date  numero  retweets  ...   dif_std  Indicadora_2  retweetXcal\n",
              "0  2015-01-02     867  2.115340  ... -0.060877             0     0.342421\n",
              "1  2015-01-05    1145  0.360699  ...  0.168522             0     0.024213\n",
              "2  2015-01-06    1190  0.190756  ...  0.278396             0    -0.308370\n",
              "3  2015-01-07    1087  0.191352  ...  0.475129             1    -0.091346\n",
              "4  2015-01-08    1491  0.334004  ...  0.176689             0     0.038153\n",
              "\n",
              "[5 rows x 11 columns]"
            ]
          },
          "metadata": {
            "tags": []
          },
          "execution_count": 4
        }
      ]
    },
    {
      "cell_type": "code",
      "metadata": {
        "colab": {
          "base_uri": "https://localhost:8080/",
          "height": 359
        },
        "id": "XleWjLONz2Ov",
        "outputId": "6ff2ec4d-3897-4a76-e2d1-4783659bec6a"
      },
      "source": [
        "df.describe().T "
      ],
      "execution_count": 5,
      "outputs": [
        {
          "output_type": "execute_result",
          "data": {
            "text/html": [
              "<div>\n",
              "<style scoped>\n",
              "    .dataframe tbody tr th:only-of-type {\n",
              "        vertical-align: middle;\n",
              "    }\n",
              "\n",
              "    .dataframe tbody tr th {\n",
              "        vertical-align: top;\n",
              "    }\n",
              "\n",
              "    .dataframe thead th {\n",
              "        text-align: right;\n",
              "    }\n",
              "</style>\n",
              "<table border=\"1\" class=\"dataframe\">\n",
              "  <thead>\n",
              "    <tr style=\"text-align: right;\">\n",
              "      <th></th>\n",
              "      <th>count</th>\n",
              "      <th>mean</th>\n",
              "      <th>std</th>\n",
              "      <th>min</th>\n",
              "      <th>25%</th>\n",
              "      <th>50%</th>\n",
              "      <th>75%</th>\n",
              "      <th>max</th>\n",
              "    </tr>\n",
              "  </thead>\n",
              "  <tbody>\n",
              "    <tr>\n",
              "      <th>numero</th>\n",
              "      <td>1253.0</td>\n",
              "      <td>977.901836</td>\n",
              "      <td>603.766954</td>\n",
              "      <td>7.000000</td>\n",
              "      <td>622.000000</td>\n",
              "      <td>826.000000</td>\n",
              "      <td>1158.000000</td>\n",
              "      <td>5029.000000</td>\n",
              "    </tr>\n",
              "    <tr>\n",
              "      <th>retweets</th>\n",
              "      <td>1253.0</td>\n",
              "      <td>0.504838</td>\n",
              "      <td>0.318086</td>\n",
              "      <td>0.000000</td>\n",
              "      <td>0.314759</td>\n",
              "      <td>0.418902</td>\n",
              "      <td>0.588872</td>\n",
              "      <td>2.671982</td>\n",
              "    </tr>\n",
              "    <tr>\n",
              "      <th>likes</th>\n",
              "      <td>1253.0</td>\n",
              "      <td>1.044028</td>\n",
              "      <td>0.711237</td>\n",
              "      <td>0.142857</td>\n",
              "      <td>0.495690</td>\n",
              "      <td>0.878492</td>\n",
              "      <td>1.407643</td>\n",
              "      <td>5.200346</td>\n",
              "    </tr>\n",
              "    <tr>\n",
              "      <th>positivo</th>\n",
              "      <td>1253.0</td>\n",
              "      <td>0.251788</td>\n",
              "      <td>0.046768</td>\n",
              "      <td>0.000000</td>\n",
              "      <td>0.220725</td>\n",
              "      <td>0.249673</td>\n",
              "      <td>0.278632</td>\n",
              "      <td>0.571429</td>\n",
              "    </tr>\n",
              "    <tr>\n",
              "      <th>negativo</th>\n",
              "      <td>1253.0</td>\n",
              "      <td>0.539958</td>\n",
              "      <td>0.064412</td>\n",
              "      <td>0.166667</td>\n",
              "      <td>0.498503</td>\n",
              "      <td>0.538131</td>\n",
              "      <td>0.577812</td>\n",
              "      <td>1.000000</td>\n",
              "    </tr>\n",
              "    <tr>\n",
              "      <th>dif_close</th>\n",
              "      <td>1253.0</td>\n",
              "      <td>0.037829</td>\n",
              "      <td>0.621583</td>\n",
              "      <td>-3.932499</td>\n",
              "      <td>-0.212500</td>\n",
              "      <td>0.027496</td>\n",
              "      <td>0.334999</td>\n",
              "      <td>2.802502</td>\n",
              "    </tr>\n",
              "    <tr>\n",
              "      <th>Indicadora</th>\n",
              "      <td>1253.0</td>\n",
              "      <td>-0.003192</td>\n",
              "      <td>0.324686</td>\n",
              "      <td>-1.000000</td>\n",
              "      <td>0.000000</td>\n",
              "      <td>0.000000</td>\n",
              "      <td>0.000000</td>\n",
              "      <td>1.000000</td>\n",
              "    </tr>\n",
              "    <tr>\n",
              "      <th>dif_std</th>\n",
              "      <td>1253.0</td>\n",
              "      <td>0.179013</td>\n",
              "      <td>0.184583</td>\n",
              "      <td>-1.000000</td>\n",
              "      <td>0.104677</td>\n",
              "      <td>0.175945</td>\n",
              "      <td>0.267260</td>\n",
              "      <td>1.000000</td>\n",
              "    </tr>\n",
              "    <tr>\n",
              "      <th>Indicadora_2</th>\n",
              "      <td>1253.0</td>\n",
              "      <td>0.105347</td>\n",
              "      <td>0.307123</td>\n",
              "      <td>0.000000</td>\n",
              "      <td>0.000000</td>\n",
              "      <td>0.000000</td>\n",
              "      <td>0.000000</td>\n",
              "      <td>1.000000</td>\n",
              "    </tr>\n",
              "    <tr>\n",
              "      <th>retweetXcal</th>\n",
              "      <td>1252.0</td>\n",
              "      <td>-0.202271</td>\n",
              "      <td>0.266870</td>\n",
              "      <td>-0.923077</td>\n",
              "      <td>-0.369054</td>\n",
              "      <td>-0.213224</td>\n",
              "      <td>-0.050821</td>\n",
              "      <td>0.911513</td>\n",
              "    </tr>\n",
              "  </tbody>\n",
              "</table>\n",
              "</div>"
            ],
            "text/plain": [
              "               count        mean  ...          75%          max\n",
              "numero        1253.0  977.901836  ...  1158.000000  5029.000000\n",
              "retweets      1253.0    0.504838  ...     0.588872     2.671982\n",
              "likes         1253.0    1.044028  ...     1.407643     5.200346\n",
              "positivo      1253.0    0.251788  ...     0.278632     0.571429\n",
              "negativo      1253.0    0.539958  ...     0.577812     1.000000\n",
              "dif_close     1253.0    0.037829  ...     0.334999     2.802502\n",
              "Indicadora    1253.0   -0.003192  ...     0.000000     1.000000\n",
              "dif_std       1253.0    0.179013  ...     0.267260     1.000000\n",
              "Indicadora_2  1253.0    0.105347  ...     0.000000     1.000000\n",
              "retweetXcal   1252.0   -0.202271  ...    -0.050821     0.911513\n",
              "\n",
              "[10 rows x 8 columns]"
            ]
          },
          "metadata": {
            "tags": []
          },
          "execution_count": 5
        }
      ]
    },
    {
      "cell_type": "code",
      "metadata": {
        "colab": {
          "base_uri": "https://localhost:8080/"
        },
        "id": "VRMFcS3Z8Ezh",
        "outputId": "ed0494d3-e318-4898-ca1f-b6619718af15"
      },
      "source": [
        "df.dtypes"
      ],
      "execution_count": 6,
      "outputs": [
        {
          "output_type": "execute_result",
          "data": {
            "text/plain": [
              "post_date        object\n",
              "numero            int64\n",
              "retweets        float64\n",
              "likes           float64\n",
              "positivo        float64\n",
              "negativo        float64\n",
              "dif_close       float64\n",
              "Indicadora        int64\n",
              "dif_std         float64\n",
              "Indicadora_2      int64\n",
              "retweetXcal     float64\n",
              "dtype: object"
            ]
          },
          "metadata": {
            "tags": []
          },
          "execution_count": 6
        }
      ]
    },
    {
      "cell_type": "code",
      "metadata": {
        "id": "uGJtc2E0ICE4"
      },
      "source": [
        "df['indi_bin']=df['Indicadora'].abs()"
      ],
      "execution_count": 7,
      "outputs": []
    },
    {
      "cell_type": "code",
      "metadata": {
        "colab": {
          "base_uri": "https://localhost:8080/",
          "height": 282
        },
        "id": "aoGsaD1AJfZU",
        "outputId": "61dcdbb5-46fb-400f-c17d-dc0db5cc116e"
      },
      "source": [
        "df['Indicadora'].hist()"
      ],
      "execution_count": 8,
      "outputs": [
        {
          "output_type": "execute_result",
          "data": {
            "text/plain": [
              "<matplotlib.axes._subplots.AxesSubplot at 0x7fdbec5e28d0>"
            ]
          },
          "metadata": {
            "tags": []
          },
          "execution_count": 8
        },
        {
          "output_type": "display_data",
          "data": {
            "image/png": "[encoded data removed]",
            "text/plain": [
              "<Figure size 432x288 with 1 Axes>"
            ]
          },
          "metadata": {
            "tags": [],
            "needs_background": "light"
          }
        }
      ]
    },
    {
      "cell_type": "code",
      "metadata": {
        "colab": {
          "base_uri": "https://localhost:8080/",
          "height": 792
        },
        "id": "Jg-GV65152o4",
        "outputId": "343cef81-55f5-4f2d-ad21-ff3cd4c2ec99"
      },
      "source": [
        "# Plotting the Autocorrelation plot.\n",
        "plt.acorr(df['retweets'], maxlags = 50)"
      ],
      "execution_count": 9,
      "outputs": [
        {
          "output_type": "execute_result",
          "data": {
            "text/plain": [
              "(array([-50, -49, -48, -47, -46, -45, -44, -43, -42, -41, -40, -39, -38,\n",
              "        -37, -36, -35, -34, -33, -32, -31, -30, -29, -28, -27, -26, -25,\n",
              "        -24, -23, -22, -21, -20, -19, -18, -17, -16, -15, -14, -13, -12,\n",
              "        -11, -10,  -9,  -8,  -7,  -6,  -5,  -4,  -3,  -2,  -1,   0,   1,\n",
              "          2,   3,   4,   5,   6,   7,   8,   9,  10,  11,  12,  13,  14,\n",
              "         15,  16,  17,  18,  19,  20,  21,  22,  23,  24,  25,  26,  27,\n",
              "         28,  29,  30,  31,  32,  33,  34,  35,  36,  37,  38,  39,  40,\n",
              "         41,  42,  43,  44,  45,  46,  47,  48,  49,  50]),\n",
              " array([0.70796304, 0.70504358, 0.70028399, 0.69686629, 0.70902719,\n",
              "        0.70557382, 0.70124403, 0.71944694, 0.70819079, 0.70725596,\n",
              "        0.71206026, 0.73048356, 0.72636233, 0.71381092, 0.71487965,\n",
              "        0.74041178, 0.71493998, 0.71008082, 0.71193665, 0.72782205,\n",
              "        0.73494338, 0.71671867, 0.72163031, 0.71877361, 0.75288026,\n",
              "        0.73444131, 0.74170142, 0.73879401, 0.74987975, 0.73489902,\n",
              "        0.73031311, 0.73652   , 0.73383708, 0.75785497, 0.74325553,\n",
              "        0.76008822, 0.74828058, 0.76853169, 0.74120616, 0.76139352,\n",
              "        0.7641697 , 0.78080196, 0.75867691, 0.75632214, 0.75061979,\n",
              "        0.75896421, 0.78147567, 0.76671884, 0.76572242, 0.78370883,\n",
              "        1.        , 0.78370883, 0.76572242, 0.76671884, 0.78147567,\n",
              "        0.75896421, 0.75061979, 0.75632214, 0.75867691, 0.78080196,\n",
              "        0.7641697 , 0.76139352, 0.74120616, 0.76853169, 0.74828058,\n",
              "        0.76008822, 0.74325553, 0.75785497, 0.73383708, 0.73652   ,\n",
              "        0.73031311, 0.73489902, 0.74987975, 0.73879401, 0.74170142,\n",
              "        0.73444131, 0.75288026, 0.71877361, 0.72163031, 0.71671867,\n",
              "        0.73494338, 0.72782205, 0.71193665, 0.71008082, 0.71493998,\n",
              "        0.74041178, 0.71487965, 0.71381092, 0.72636233, 0.73048356,\n",
              "        0.71206026, 0.70725596, 0.70819079, 0.71944694, 0.70124403,\n",
              "        0.70557382, 0.70902719, 0.69686629, 0.70028399, 0.70504358,\n",
              "        0.70796304]),\n",
              " <matplotlib.collections.LineCollection at 0x7fdc3a38b350>,\n",
              " <matplotlib.lines.Line2D at 0x7fdbec02ca90>)"
            ]
          },
          "metadata": {
            "tags": []
          },
          "execution_count": 9
        },
        {
          "output_type": "display_data",
          "data": {
            "image/png": "[encoded data removed]",
            "text/plain": [
              "<Figure size 432x288 with 1 Axes>"
            ]
          },
          "metadata": {
            "tags": [],
            "needs_background": "light"
          }
        }
      ]
    },
    {
      "cell_type": "code",
      "metadata": {
        "colab": {
          "base_uri": "https://localhost:8080/",
          "height": 409
        },
        "id": "nTY_0O0C9Rq3",
        "outputId": "0af5f2da-0e6a-4100-8fd7-260b3de56fa9"
      },
      "source": [
        "# Creating Autocorrelation plot\n",
        "x = pd.plotting.autocorrelation_plot(df['dif_close'])\n",
        "  \n",
        "# ploting the Curve\n",
        "x.plot()"
      ],
      "execution_count": null,
      "outputs": [
        {
          "output_type": "execute_result",
          "data": {
            "text/plain": [
              "[]"
            ]
          },
          "metadata": {
            "tags": []
          },
          "execution_count": 13
        },
        {
          "output_type": "display_data",
          "data": {
            "image/png": "[encoded data removed]",
            "text/plain": [
              "<Figure size 576x432 with 1 Axes>"
            ]
          },
          "metadata": {
            "tags": [],
            "needs_background": "light"
          }
        }
      ]
    },
    {
      "cell_type": "markdown",
      "metadata": {
        "id": "L3IGvz82z2Ow"
      },
      "source": [
        "Como puede verse arriba, se registra una observación cada 10 minutos. Esto significa que, durante una hora, se tendrán 6 observaciones. Del mismo modo, en un  día se tienen 144 (6x24) observaciones. En total son 420551 observaciones.\n",
        "\n",
        "Dado un tiempo específico, digamos que desea predecir la temperatura 6 horas en el futuro. Para hacer esta predicción, se elige usar 5 días de observaciones. Por lo tanto, crearía una ventana que contiene las últimas 720 (5x144) observaciones para entrenar el modelo. Son posibles muchas de estas configuraciones, lo que hace que este conjunto de datos sea bueno para experimentar.\n",
        "\n",
        "La siguiente función devuelve las ventanas de tiempo descritas anteriormente para entrenar el modelo. El parámetro *history_size* es el tamaño de la ventana de información pasada. El *target_size* es qué tan lejos en el futuro necesita el modelo aprender a predecir; *target_size* es la etiqueta que debe predecirse."
      ]
    },
    {
      "cell_type": "markdown",
      "metadata": {
        "id": "5spOZmFKz2Ow"
      },
      "source": [
        "## <span style=\"color:blue\">Funciones para gráficos</span>"
      ]
    },
    {
      "cell_type": "code",
      "metadata": {
        "id": "ji28-Aguz2Ow"
      },
      "source": [
        "def create_time_steps(length):\n",
        "  return list(range(-length, 0))"
      ],
      "execution_count": 10,
      "outputs": []
    },
    {
      "cell_type": "code",
      "metadata": {
        "tags": [],
        "id": "Qkva4ke_z2Ow"
      },
      "source": [
        "def show_plot(plot_data, delta, title):\n",
        "  labels = ['Historia', 'Futuro Verdadero' , 'Predicción del Modelo']\n",
        "  marker = ['.-', 'rx', 'go']\n",
        "  time_steps = create_time_steps(plot_data[0].shape[0])\n",
        "  if delta:\n",
        "    future = delta\n",
        "  else:\n",
        "    future = 0\n",
        "\n",
        "  plt.title(title)\n",
        "  for i, x in enumerate(plot_data):\n",
        "    if i:\n",
        "      plt.plot(future, plot_data[i], marker[i], markersize=10,\n",
        "               label=labels[i])\n",
        "    else:\n",
        "      plt.plot(time_steps, plot_data[i].flatten(), marker[i], label=labels[i])\n",
        "  plt.legend()\n",
        "  plt.xlim([time_steps[0], (future+5)*2])\n",
        "  plt.xlabel('Salto de tiempo (Time-Step)')\n",
        "  return plt"
      ],
      "execution_count": 11,
      "outputs": []
    },
    {
      "cell_type": "code",
      "metadata": {
        "id": "c_eqIzhnz2Ox"
      },
      "source": [
        "def plot_train_history(history, title):\n",
        "    loss = history.history['loss']\n",
        "    val_loss = history.history['val_loss']\n",
        "\n",
        "    epochs = range(len(loss))\n",
        "\n",
        "    plt.figure()\n",
        "\n",
        "    plt.plot(epochs, loss, 'b', label='Pérdida entrenamiento')\n",
        "    plt.plot(epochs, val_loss, 'r', label='Pérdida validación')\n",
        "    plt.title(title)\n",
        "    plt.legend()\n",
        "\n",
        "    plt.show()"
      ],
      "execution_count": 12,
      "outputs": []
    },
    {
      "cell_type": "code",
      "metadata": {
        "id": "XY2SgXNIz2Ox"
      },
      "source": [
        "def plot_serie_prediction(y_test, y_pred,rms, epochs):\n",
        "    plt.plot(np.arange(0, len(y_test)), y_test, marker='.', label=\"verdadero\")\n",
        "    plt.plot(np.arange(0, len(y_test)), y_pred, marker='+', label=\"predicho\")\n",
        "    plt.xlabel('Time Step')\n",
        "    plt.annotate(\"rms = \"+str(round(rms,2)) , xy=(100, 140), size = 15)\n",
        "    #plt.annotate(\"modelo = LSTM(50), timestep=60\" , xy=(100, 146), size = 15)\n",
        "    #plt.annotate(\"epochs=40\" , xy=(100, 143), size = 15)\n",
        "    plt.title(\"Intervalo de predicción a un día. Escala original\", size = 20)\n",
        "    plt.legend()\n",
        "    plt.show()"
      ],
      "execution_count": 13,
      "outputs": []
    },
    {
      "cell_type": "markdown",
      "metadata": {
        "id": "DrjzIefoz2Ox"
      },
      "source": [
        "## <span style=\"color:blue\">Funciones para preparar datos de entrenamiento</span>"
      ]
    },
    {
      "cell_type": "markdown",
      "metadata": {
        "id": "EeOZOGB1z2Oy"
      },
      "source": [
        "### Caso Univariado"
      ]
    },
    {
      "cell_type": "code",
      "metadata": {
        "tags": [],
        "id": "NOAGwKMuz2Oy"
      },
      "source": [
        "def univariate_data(dataset, start_index, end_index, history_size, target_size):\n",
        "    ''' dataset: conjunto de datos\n",
        "        start_index: índice inicial de donde empezar a tomar los datos\n",
        "        end_index: índice final para tomar los datos. None para tomarlos todos\n",
        "        history_size: tamaño de la venytana para crear las secuencias\n",
        "        target_size: dentro de cuántas observaciones futuras desea pronosticar\n",
        "    '''\n",
        "   \n",
        "    data = []\n",
        "    labels = []\n",
        "\n",
        "    start_index = start_index + history_size\n",
        "    if end_index is None:\n",
        "        end_index = len(dataset) - target_size\n",
        "\n",
        "    for i in range(start_index, end_index):\n",
        "        indices = range(i-history_size, i)\n",
        "        # Reshape data from (history_size,) to (history_size, 1)\n",
        "        data.append(np.reshape(dataset[indices], (history_size, 1)))\n",
        "        labels.append(dataset[i+target_size])\n",
        "    \n",
        "    return np.array(data), np.array(labels)"
      ],
      "execution_count": 14,
      "outputs": []
    },
    {
      "cell_type": "markdown",
      "metadata": {
        "id": "reTbGphcz2Oy"
      },
      "source": [
        "### Caso multivariado"
      ]
    },
    {
      "cell_type": "code",
      "metadata": {
        "id": "CyNW-D8-z2Oy"
      },
      "source": [
        "def multivariate_data(dataset, target, start_index, end_index, history_size,\n",
        "                      target_size, step, single_step=False):\n",
        "    ''' dataset: conjunto de datos para las secuencias de entrada\n",
        "        target:  conjunto de datos para las secuencias de salida\n",
        "        start_index: índice inicial de donde empezar a tomar los datos\n",
        "        end_index: índice final para tomar los datos. None para tomarlos todos\n",
        "        history_size: tamaño de la venytana para crear las secuencias\n",
        "        target_size: dentro de cuántas observaciones futuras desea pronosticar\n",
        "        step: Cada cuántas observaciones deben tomarse. Para secuencias muy largas\n",
        "              que no cambia mucho localmente\n",
        "        single_step: Predecir solamente un valor futuro (=True),\n",
        "                     o predecir todos los valores hasta target_size(=False)\n",
        "    '''  \n",
        "    data = []\n",
        "    labels = []\n",
        "\n",
        "    start_index = start_index + history_size\n",
        "    if end_index is None:\n",
        "        end_index = len(dataset) - target_size\n",
        "\n",
        "    for i in range(start_index, end_index):\n",
        "        indices = range(i-history_size, i, step)\n",
        "        data.append(dataset[indices])\n",
        "\n",
        "        if single_step:\n",
        "            labels.append(target[i+target_size])\n",
        "        else:\n",
        "            labels.append(target[i:i+target_size])\n",
        "\n",
        "    return np.array(data), np.array(labels)"
      ],
      "execution_count": 15,
      "outputs": []
    },
    {
      "cell_type": "markdown",
      "metadata": {
        "id": "VVkTmUOBz2Oz"
      },
      "source": [
        "En las partes  siguientes, las primeras 300,000 filas de datos serán el conjunto de datos de entrenamiento, y el resto será el conjunto de datos de validación (120551). Esto equivale a unos 2100 días de datos de entrenamiento.\n"
      ]
    },
    {
      "cell_type": "markdown",
      "metadata": {
        "id": "Hvm7rJZDz2Oz"
      },
      "source": [
        "## <span style=\"color:blue\">Pronóstico de una serie de tiempo multivariada</span>"
      ]
    },
    {
      "cell_type": "markdown",
      "metadata": {
        "id": "5WfNCiCCz2O0"
      },
      "source": [
        "\n",
        "El conjunto de datos original contiene catorce variables (features). Para simplificar, esta sección considera solo tres de los catorce originales. Las características utilizadas son la temperatura del aire, la presión atmosférica y la densidad del aire.\n",
        "\n",
        "Para usar más variables, agregue sus nombres a esta lista."
      ]
    },
    {
      "cell_type": "code",
      "metadata": {
        "colab": {
          "base_uri": "https://localhost:8080/"
        },
        "id": "6u7FNY869iS2",
        "outputId": "a41a6336-ede7-4cd3-b790-452a64e1b871"
      },
      "source": [
        "print(df.shape[0])\n",
        "df.shape[0]*0.25"
      ],
      "execution_count": null,
      "outputs": [
        {
          "output_type": "stream",
          "text": [
            "1253\n"
          ],
          "name": "stdout"
        },
        {
          "output_type": "execute_result",
          "data": {
            "text/plain": [
              "313.25"
            ]
          },
          "metadata": {
            "tags": []
          },
          "execution_count": 241
        }
      ]
    },
    {
      "cell_type": "code",
      "metadata": {
        "id": "Lp8Afok9z2Oz"
      },
      "source": [
        "TRAIN_SPLIT = 1250"
      ],
      "execution_count": 22,
      "outputs": []
    },
    {
      "cell_type": "markdown",
      "metadata": {
        "tags": [],
        "id": "IzkyHocfz2Oz"
      },
      "source": [
        "Se coloca una semilla para gerantizar reproductibidad"
      ]
    },
    {
      "cell_type": "code",
      "metadata": {
        "tags": [],
        "id": "JEK9jRtxz2Oz"
      },
      "source": [
        "tf.random.set_seed(13)"
      ],
      "execution_count": 16,
      "outputs": []
    },
    {
      "cell_type": "code",
      "metadata": {
        "id": "S2xAs3Wmz2O0"
      },
      "source": [
        "features_considered = ['numero', 'retweets', 'likes', 'positivo']#, 'negativo'"
      ],
      "execution_count": 17,
      "outputs": []
    },
    {
      "cell_type": "code",
      "metadata": {
        "colab": {
          "base_uri": "https://localhost:8080/",
          "height": 235
        },
        "id": "FuEzXxruz2O3",
        "outputId": "096a8cb5-aa19-44ce-f085-516db1e4287d"
      },
      "source": [
        "features = df[features_considered]\n",
        "features.index = df['post_date']\n",
        "features.head()"
      ],
      "execution_count": 18,
      "outputs": [
        {
          "output_type": "execute_result",
          "data": {
            "text/html": [
              "<div>\n",
              "<style scoped>\n",
              "    .dataframe tbody tr th:only-of-type {\n",
              "        vertical-align: middle;\n",
              "    }\n",
              "\n",
              "    .dataframe tbody tr th {\n",
              "        vertical-align: top;\n",
              "    }\n",
              "\n",
              "    .dataframe thead th {\n",
              "        text-align: right;\n",
              "    }\n",
              "</style>\n",
              "<table border=\"1\" class=\"dataframe\">\n",
              "  <thead>\n",
              "    <tr style=\"text-align: right;\">\n",
              "      <th></th>\n",
              "      <th>numero</th>\n",
              "      <th>retweets</th>\n",
              "      <th>likes</th>\n",
              "      <th>positivo</th>\n",
              "    </tr>\n",
              "    <tr>\n",
              "      <th>post_date</th>\n",
              "      <th></th>\n",
              "      <th></th>\n",
              "      <th></th>\n",
              "      <th></th>\n",
              "    </tr>\n",
              "  </thead>\n",
              "  <tbody>\n",
              "    <tr>\n",
              "      <th>2015-01-02</th>\n",
              "      <td>867</td>\n",
              "      <td>2.115340</td>\n",
              "      <td>0.504037</td>\n",
              "      <td>0.239908</td>\n",
              "    </tr>\n",
              "    <tr>\n",
              "      <th>2015-01-05</th>\n",
              "      <td>1145</td>\n",
              "      <td>0.360699</td>\n",
              "      <td>0.517031</td>\n",
              "      <td>0.248035</td>\n",
              "    </tr>\n",
              "    <tr>\n",
              "      <th>2015-01-06</th>\n",
              "      <td>1190</td>\n",
              "      <td>0.190756</td>\n",
              "      <td>0.393277</td>\n",
              "      <td>0.288235</td>\n",
              "    </tr>\n",
              "    <tr>\n",
              "      <th>2015-01-07</th>\n",
              "      <td>1087</td>\n",
              "      <td>0.191352</td>\n",
              "      <td>0.507820</td>\n",
              "      <td>0.261270</td>\n",
              "    </tr>\n",
              "    <tr>\n",
              "      <th>2015-01-08</th>\n",
              "      <td>1491</td>\n",
              "      <td>0.334004</td>\n",
              "      <td>0.570758</td>\n",
              "      <td>0.335345</td>\n",
              "    </tr>\n",
              "  </tbody>\n",
              "</table>\n",
              "</div>"
            ],
            "text/plain": [
              "            numero  retweets     likes  positivo\n",
              "post_date                                       \n",
              "2015-01-02     867  2.115340  0.504037  0.239908\n",
              "2015-01-05    1145  0.360699  0.517031  0.248035\n",
              "2015-01-06    1190  0.190756  0.393277  0.288235\n",
              "2015-01-07    1087  0.191352  0.507820  0.261270\n",
              "2015-01-08    1491  0.334004  0.570758  0.335345"
            ]
          },
          "metadata": {
            "tags": []
          },
          "execution_count": 18
        }
      ]
    },
    {
      "cell_type": "markdown",
      "metadata": {
        "id": "iJqwHVNLz2O4"
      },
      "source": [
        "\n",
        "Echemos un vistazo a cómo cada una de estas características varía con el tiempo.\n"
      ]
    },
    {
      "cell_type": "code",
      "metadata": {
        "colab": {
          "base_uri": "https://localhost:8080/",
          "height": 298
        },
        "id": "z3m838B1z2O4",
        "outputId": "74eb6a9f-77a8-4b6b-ac5f-aeaa92ae8a91"
      },
      "source": [
        "features.plot(subplots=True, rot=45, xlabel='Fecha')\n",
        "plt.show()"
      ],
      "execution_count": 19,
      "outputs": [
        {
          "output_type": "display_data",
          "data": {
            "image/png": "[encoded data removed]",
            "text/plain": [
              "<Figure size 432x288 with 4 Axes>"
            ]
          },
          "metadata": {
            "tags": [],
            "needs_background": "light"
          }
        }
      ]
    },
    {
      "cell_type": "markdown",
      "metadata": {
        "id": "rhrR3WZLz2O4"
      },
      "source": [
        "Como se mencionó, el primer paso será estandarizar el conjunto de datos utilizando la media y la desviación estándar de los datos de entrenamiento."
      ]
    },
    {
      "cell_type": "code",
      "metadata": {
        "id": "Ym6jirWKz2O5"
      },
      "source": [
        "#fecha = features_date['post_date'].values\n",
        "dataset = features.values\n",
        "data_mean = dataset[:TRAIN_SPLIT].mean(axis=0)\n",
        "data_std = dataset[:TRAIN_SPLIT].std(axis=0)"
      ],
      "execution_count": 23,
      "outputs": []
    },
    {
      "cell_type": "code",
      "metadata": {
        "id": "ytmlaU6Rz2O5"
      },
      "source": [
        "dataset = (dataset-data_mean)/data_std"
      ],
      "execution_count": 24,
      "outputs": []
    },
    {
      "cell_type": "code",
      "metadata": {
        "colab": {
          "base_uri": "https://localhost:8080/"
        },
        "id": "PCMM7GDI1U0d",
        "outputId": "1876fe16-0c5f-4b6c-a97b-15e90cb1e86d"
      },
      "source": [
        " dataset[0,0:4]"
      ],
      "execution_count": 52,
      "outputs": [
        {
          "output_type": "execute_result",
          "data": {
            "text/plain": [
              "array([-0.18563351,  5.08031896, -0.75811692, -0.25094164])"
            ]
          },
          "metadata": {
            "tags": []
          },
          "execution_count": 52
        }
      ]
    },
    {
      "cell_type": "code",
      "metadata": {
        "id": "URZYBxq-6U54",
        "colab": {
          "base_uri": "https://localhost:8080/",
          "height": 504
        },
        "outputId": "2382e774-f2b2-40c1-cc1e-fd6dd388f087"
      },
      "source": [
        "#df_indi=df[['Indicadora']].reset_index()\n",
        "from tensorflow.keras.utils import to_categorical\n",
        "df['Indicadora'][df['Indicadora']==-1]=2\n",
        "df_indi= pd.DataFrame(to_categorical(df.Indicadora))\n",
        "df_indi#.columns = target_dimensions"
      ],
      "execution_count": 32,
      "outputs": [
        {
          "output_type": "stream",
          "text": [
            "/usr/local/lib/python3.7/dist-packages/ipykernel_launcher.py:3: SettingWithCopyWarning: \n",
            "A value is trying to be set on a copy of a slice from a DataFrame\n",
            "\n",
            "See the caveats in the documentation: https://pandas.pydata.org/pandas-docs/stable/user_guide/indexing.html#returning-a-view-versus-a-copy\n",
            "  This is separate from the ipykernel package so we can avoid doing imports until\n"
          ],
          "name": "stderr"
        },
        {
          "output_type": "execute_result",
          "data": {
            "text/html": [
              "<div>\n",
              "<style scoped>\n",
              "    .dataframe tbody tr th:only-of-type {\n",
              "        vertical-align: middle;\n",
              "    }\n",
              "\n",
              "    .dataframe tbody tr th {\n",
              "        vertical-align: top;\n",
              "    }\n",
              "\n",
              "    .dataframe thead th {\n",
              "        text-align: right;\n",
              "    }\n",
              "</style>\n",
              "<table border=\"1\" class=\"dataframe\">\n",
              "  <thead>\n",
              "    <tr style=\"text-align: right;\">\n",
              "      <th></th>\n",
              "      <th>0</th>\n",
              "      <th>1</th>\n",
              "      <th>2</th>\n",
              "    </tr>\n",
              "  </thead>\n",
              "  <tbody>\n",
              "    <tr>\n",
              "      <th>0</th>\n",
              "      <td>1.0</td>\n",
              "      <td>0.0</td>\n",
              "      <td>0.0</td>\n",
              "    </tr>\n",
              "    <tr>\n",
              "      <th>1</th>\n",
              "      <td>1.0</td>\n",
              "      <td>0.0</td>\n",
              "      <td>0.0</td>\n",
              "    </tr>\n",
              "    <tr>\n",
              "      <th>2</th>\n",
              "      <td>1.0</td>\n",
              "      <td>0.0</td>\n",
              "      <td>0.0</td>\n",
              "    </tr>\n",
              "    <tr>\n",
              "      <th>3</th>\n",
              "      <td>0.0</td>\n",
              "      <td>1.0</td>\n",
              "      <td>0.0</td>\n",
              "    </tr>\n",
              "    <tr>\n",
              "      <th>4</th>\n",
              "      <td>1.0</td>\n",
              "      <td>0.0</td>\n",
              "      <td>0.0</td>\n",
              "    </tr>\n",
              "    <tr>\n",
              "      <th>...</th>\n",
              "      <td>...</td>\n",
              "      <td>...</td>\n",
              "      <td>...</td>\n",
              "    </tr>\n",
              "    <tr>\n",
              "      <th>1248</th>\n",
              "      <td>1.0</td>\n",
              "      <td>0.0</td>\n",
              "      <td>0.0</td>\n",
              "    </tr>\n",
              "    <tr>\n",
              "      <th>1249</th>\n",
              "      <td>0.0</td>\n",
              "      <td>1.0</td>\n",
              "      <td>0.0</td>\n",
              "    </tr>\n",
              "    <tr>\n",
              "      <th>1250</th>\n",
              "      <td>1.0</td>\n",
              "      <td>0.0</td>\n",
              "      <td>0.0</td>\n",
              "    </tr>\n",
              "    <tr>\n",
              "      <th>1251</th>\n",
              "      <td>1.0</td>\n",
              "      <td>0.0</td>\n",
              "      <td>0.0</td>\n",
              "    </tr>\n",
              "    <tr>\n",
              "      <th>1252</th>\n",
              "      <td>1.0</td>\n",
              "      <td>0.0</td>\n",
              "      <td>0.0</td>\n",
              "    </tr>\n",
              "  </tbody>\n",
              "</table>\n",
              "<p>1253 rows × 3 columns</p>\n",
              "</div>"
            ],
            "text/plain": [
              "        0    1    2\n",
              "0     1.0  0.0  0.0\n",
              "1     1.0  0.0  0.0\n",
              "2     1.0  0.0  0.0\n",
              "3     0.0  1.0  0.0\n",
              "4     1.0  0.0  0.0\n",
              "...   ...  ...  ...\n",
              "1248  1.0  0.0  0.0\n",
              "1249  0.0  1.0  0.0\n",
              "1250  1.0  0.0  0.0\n",
              "1251  1.0  0.0  0.0\n",
              "1252  1.0  0.0  0.0\n",
              "\n",
              "[1253 rows x 3 columns]"
            ]
          },
          "metadata": {
            "tags": []
          },
          "execution_count": 32
        }
      ]
    },
    {
      "cell_type": "code",
      "metadata": {
        "id": "JSp3lnW_4EIg"
      },
      "source": [
        "dataset=np.array(np.concatenate( (dataset,df_indi),axis = 1),dtype='float')\n",
        "#features_date.iloc[:,1:6].values\n",
        "#dataset\n",
        "#features_date"
      ],
      "execution_count": 33,
      "outputs": []
    },
    {
      "cell_type": "code",
      "metadata": {
        "colab": {
          "base_uri": "https://localhost:8080/"
        },
        "id": "2K82-34F69He",
        "outputId": "73a4f08f-e93d-4ebc-e914-0d39904fb61d"
      },
      "source": [
        "# Cuenta las frecuencias de los datos\n",
        "counts = df_indi.sum(axis=0)\n",
        "print(counts)\n",
        "print(\n",
        "    \"Number of positive samples in training data: {} ({:.2f}% of total)\".format(\n",
        "        counts[1], 100 * float(counts[1]) / len(df_indi.iloc[:,1])\n",
        "    )\n",
        ")\n",
        "\n",
        "# Crea los pesos para el entrenamiento. Más peso a los menos frecuentes (1)\n",
        "weight_for_0 = 1.0 / counts[0]\n",
        "weight_for_1 = 1.0 / counts[1]\n",
        "weight_for_2 = 1.0 / counts[2]"
      ],
      "execution_count": 43,
      "outputs": [
        {
          "output_type": "stream",
          "text": [
            "0    1121.0\n",
            "1      64.0\n",
            "2      68.0\n",
            "dtype: float32\n",
            "Number of positive samples in training data: 64.0 (5.11% of total)\n"
          ],
          "name": "stdout"
        }
      ]
    },
    {
      "cell_type": "code",
      "metadata": {
        "colab": {
          "base_uri": "https://localhost:8080/"
        },
        "id": "jy8dAJIX7kNK",
        "outputId": "f6d77e0b-8e51-4db7-8626-1f0e476624d3"
      },
      "source": [
        "print(weight_for_0)\n",
        "print(weight_for_1)\n",
        "print(weight_for_2)"
      ],
      "execution_count": 45,
      "outputs": [
        {
          "output_type": "stream",
          "text": [
            "0.0008920606601248885\n",
            "0.015625\n",
            "0.014705882352941176\n"
          ],
          "name": "stdout"
        }
      ]
    },
    {
      "cell_type": "markdown",
      "metadata": {
        "id": "wSm1GZuiz2O5"
      },
      "source": [
        "## <span style=\"color:blue\">Modelo de un Paso</span>"
      ]
    },
    {
      "cell_type": "markdown",
      "metadata": {
        "id": "9lXL3gLKz2O5"
      },
      "source": [
        "\n",
        "En una configuración de un  paso, el modelo aprende a predecir un solo punto en el futuro en función del historial proporcionado.\n",
        "\n",
        "La función a continuación realiza la misma tarea de ventanas que antes, sin embargo, aquí muestra la observación pasada en función del tamaño de paso dado."
      ]
    },
    {
      "cell_type": "markdown",
      "metadata": {
        "id": "jCnKG5ILz2O6"
      },
      "source": [
        "### Crea arreglos de datos de entrenamiento y validación"
      ]
    },
    {
      "cell_type": "code",
      "metadata": {
        "id": "wAHw7VX8z2O6"
      },
      "source": [
        "past_history = 7\n",
        "future_target = 1\n",
        "STEP = 1\n",
        "target = 4\n",
        "\n",
        "x_train_single, y_train_single = multivariate_data(dataset[:,0:4], dataset[:, 4:7], 0,\n",
        "                                                   TRAIN_SPLIT, past_history,\n",
        "                                                   future_target, STEP,\n",
        "                                                   single_step=True)\n",
        "TRAIN_SPLIT2 = 950\n",
        "x_val_single, y_val_single = multivariate_data(dataset[:,0:4], dataset[:, 4:7],\n",
        "                                               TRAIN_SPLIT2, None, past_history,\n",
        "                                               future_target, STEP,\n",
        "                                               single_step=True)"
      ],
      "execution_count": 53,
      "outputs": []
    },
    {
      "cell_type": "code",
      "metadata": {
        "colab": {
          "base_uri": "https://localhost:8080/"
        },
        "id": "P2suotCnz2O6",
        "outputId": "4818c01c-69a1-435a-a2f4-c96c2ea08762"
      },
      "source": [
        "print(dataset.shape)\n",
        "print(x_train_single.shape)\n",
        "print(y_train_single.shape)\n",
        "print(x_val_single.shape)\n",
        "print(y_val_single.shape)"
      ],
      "execution_count": 54,
      "outputs": [
        {
          "output_type": "stream",
          "text": [
            "(1253, 7)\n",
            "(1243, 7, 4)\n",
            "(1243, 3)\n",
            "(295, 7, 4)\n",
            "(295, 3)\n"
          ],
          "name": "stdout"
        }
      ]
    },
    {
      "cell_type": "markdown",
      "metadata": {
        "id": "TFxiXkb4z2O7"
      },
      "source": [
        "Veamos una ventana de datos de la historia pasada"
      ]
    },
    {
      "cell_type": "code",
      "metadata": {
        "id": "0NXd-eB0z2O7"
      },
      "source": [
        "print ('Ventana ejemplo de la historia pasada : {}'.format(x_train_single[0].shape))"
      ],
      "execution_count": null,
      "outputs": []
    },
    {
      "cell_type": "code",
      "metadata": {
        "id": "pAXlFZY3z2O7",
        "colab": {
          "base_uri": "https://localhost:8080/"
        },
        "outputId": "02a7fba6-dd8f-4698-824e-fcfe4d36bffb"
      },
      "source": [
        "y_train_single[0:10]"
      ],
      "execution_count": 55,
      "outputs": [
        {
          "output_type": "execute_result",
          "data": {
            "text/plain": [
              "array([[1., 0., 0.],\n",
              "       [1., 0., 0.],\n",
              "       [1., 0., 0.],\n",
              "       [1., 0., 0.],\n",
              "       [1., 0., 0.],\n",
              "       [1., 0., 0.],\n",
              "       [1., 0., 0.],\n",
              "       [0., 0., 1.],\n",
              "       [0., 1., 0.],\n",
              "       [1., 0., 0.]])"
            ]
          },
          "metadata": {
            "tags": []
          },
          "execution_count": 55
        }
      ]
    },
    {
      "cell_type": "markdown",
      "metadata": {
        "id": "OLo8bQ5jz2O7"
      },
      "source": [
        "### Crea objetos tf.data.Dataset para entreno y validación"
      ]
    },
    {
      "cell_type": "markdown",
      "metadata": {
        "id": "vm_zXUIgz2O8"
      },
      "source": [
        "Para manejo más eficiente de memoria "
      ]
    },
    {
      "cell_type": "code",
      "metadata": {
        "id": "Mg24Rvz9z2O8"
      },
      "source": [
        "BATCH_SIZE = 64\n",
        "BUFFER_SIZE = 1000\n",
        "\n",
        "train_data_single = tf.data.Dataset.from_tensor_slices((x_train_single, y_train_single))\n",
        "train_data_single = train_data_single.cache().shuffle(BUFFER_SIZE).batch(BATCH_SIZE).repeat()\n",
        "\n",
        "val_data_single = tf.data.Dataset.from_tensor_slices((x_val_single, y_val_single))\n",
        "val_data_single = val_data_single.batch(BATCH_SIZE).repeat()"
      ],
      "execution_count": 56,
      "outputs": []
    },
    {
      "cell_type": "markdown",
      "metadata": {
        "id": "Wy1Tuoiuz2PA"
      },
      "source": [
        "### Modelo LSTM "
      ]
    },
    {
      "cell_type": "code",
      "metadata": {
        "id": "GBSU9rg8JiHa"
      },
      "source": [
        "# Build the model\n",
        "from tensorflow.keras.models import Sequential\n",
        "from tensorflow.keras.layers import LSTM,Dense, Dropout, SpatialDropout1D,Activation\n",
        "from tensorflow.keras.layers import Embedding\n",
        "from sklearn.metrics import confusion_matrix"
      ],
      "execution_count": 65,
      "outputs": []
    },
    {
      "cell_type": "code",
      "metadata": {
        "colab": {
          "base_uri": "https://localhost:8080/"
        },
        "id": "Tu49WZJ9z2PA",
        "outputId": "cb7009eb-ffdf-4b39-9ccc-2f434ac1296f"
      },
      "source": [
        "input_shape = (x_train_single.shape[1], x_train_single.shape[2])\n",
        "units = 64\n",
        "drop_out_rate = 0.01\n",
        "\n",
        "# layers\n",
        "inputs = Input(input_shape)\n",
        "x = Dropout(drop_out_rate/2, name= 'Dropout_01')(inputs)\n",
        "x = LSTM(units=units, name='LSTM_layer',\n",
        "         dropout=drop_out_rate/2, recurrent_dropout=0.2, activation='relu',return_sequences =True)(x)        # \n",
        "#x = Dropout(drop_out_rate/4, name= 'Dropout_02')(x)\n",
        "#x = LSTM(units=units//2, name='LSTM_layer2',\n",
        "#         dropout=drop_out_rate/4, recurrent_dropout=0.2, activation='tanh',return_sequences =True)(x)\n",
        "x = Dropout(drop_out_rate/6, name= 'Dropout_03')(x)         \n",
        "x = LSTM(units=units//4, name='LSTM_layer3',\n",
        "         dropout=drop_out_rate/6, recurrent_dropout=0.1, activation='relu')(x)     #      \n",
        "x = Dense(1, activation='softmax')(x)\n",
        "outputs = Dense(3)(x)\n",
        "\n",
        "#x = Activation('relu')(inputs)\n",
        "#x = Dense(units, activation='relu',name='primera_capa_oculta')(x)\n",
        "#x = Dense(units, activation='relu', name='segunda_capa_oculta')(x)\n",
        "#outputs = Dense(3, activation='softmax', name='capa_salida')(x)\n",
        "\n",
        "# model\n",
        "single_step_model = Model(inputs=inputs, outputs=outputs, name='series_LSTM_model')\n",
        "single_step_model.summary()\n",
        "\n",
        "\n",
        "#single_step_model = tf.keras.models.Sequential()\n",
        "#single_step_model.add(tf.keras.layers.LSTM(32, input_shape=x_train_single.shape[-2:]))\n",
        "#single_step_model.add(tf.keras.layers.Dense(1))"
      ],
      "execution_count": 146,
      "outputs": [
        {
          "output_type": "stream",
          "text": [
            "Model: \"series_LSTM_model\"\n",
            "_________________________________________________________________\n",
            "Layer (type)                 Output Shape              Param #   \n",
            "=================================================================\n",
            "input_21 (InputLayer)        [(None, 7, 4)]            0         \n",
            "_________________________________________________________________\n",
            "Dropout_01 (Dropout)         (None, 7, 4)              0         \n",
            "_________________________________________________________________\n",
            "LSTM_layer (LSTM)            (None, 7, 64)             17664     \n",
            "_________________________________________________________________\n",
            "Dropout_03 (Dropout)         (None, 7, 64)             0         \n",
            "_________________________________________________________________\n",
            "LSTM_layer3 (LSTM)           (None, 16)                5184      \n",
            "_________________________________________________________________\n",
            "dense_32 (Dense)             (None, 1)                 17        \n",
            "_________________________________________________________________\n",
            "dense_33 (Dense)             (None, 3)                 6         \n",
            "=================================================================\n",
            "Total params: 22,871\n",
            "Trainable params: 22,871\n",
            "Non-trainable params: 0\n",
            "_________________________________________________________________\n"
          ],
          "name": "stdout"
        }
      ]
    },
    {
      "cell_type": "markdown",
      "metadata": {
        "id": "Ri4sWzZHz2PA"
      },
      "source": [
        "### Compila"
      ]
    },
    {
      "cell_type": "code",
      "metadata": {
        "id": "0fRcpJq6z2PB"
      },
      "source": [
        "single_step_model.compile(optimizer=Adam(), loss='categorical_crossentropy', metrics=['accuracy'])"
      ],
      "execution_count": 147,
      "outputs": []
    },
    {
      "cell_type": "markdown",
      "metadata": {
        "id": "B6QaR5DAz2PB"
      },
      "source": [
        "Revisemos una predicción simple"
      ]
    },
    {
      "cell_type": "code",
      "metadata": {
        "colab": {
          "base_uri": "https://localhost:8080/"
        },
        "id": "7xpx5b89z2PB",
        "outputId": "c845073a-64e7-4436-e433-fb4a5537610c"
      },
      "source": [
        "for x, y in val_data_single.take(1):\n",
        "  print(single_step_model.predict(x).shape)"
      ],
      "execution_count": 120,
      "outputs": [
        {
          "output_type": "stream",
          "text": [
            "(64, 3)\n"
          ],
          "name": "stdout"
        }
      ]
    },
    {
      "cell_type": "code",
      "metadata": {
        "id": "GfDFl3MSz2PB"
      },
      "source": [
        "#single_step_model.predict(x).T\n",
        "?single_step_model.fit"
      ],
      "execution_count": 121,
      "outputs": []
    },
    {
      "cell_type": "code",
      "metadata": {
        "colab": {
          "base_uri": "https://localhost:8080/"
        },
        "id": "n2YE8IT1L2Tq",
        "outputId": "1afcbdeb-7df5-4a70-deca-2eb453989ac1"
      },
      "source": [
        "counts"
      ],
      "execution_count": 122,
      "outputs": [
        {
          "output_type": "execute_result",
          "data": {
            "text/plain": [
              "0    1121.0\n",
              "1      64.0\n",
              "2      68.0\n",
              "dtype: float32"
            ]
          },
          "metadata": {
            "tags": []
          },
          "execution_count": 122
        }
      ]
    },
    {
      "cell_type": "markdown",
      "metadata": {
        "id": "ctw9xYfJz2PB"
      },
      "source": [
        "### Entrena"
      ]
    },
    {
      "cell_type": "code",
      "metadata": {
        "colab": {
          "base_uri": "https://localhost:8080/"
        },
        "id": "rchxE8Xjz2PC",
        "outputId": "a66d1f64-ae3f-4ab7-bd35-08070af199b8"
      },
      "source": [
        "EVALUATION_INTERVAL = 200\n",
        "EPOCHS = 20\n",
        "class_weight = {0: weight_for_0, 1: weight_for_1, 2: weight_for_2}\n",
        "single_step_history = single_step_model.fit(train_data_single, epochs=EPOCHS,\n",
        "                                            steps_per_epoch=EVALUATION_INTERVAL,\n",
        "                                            validation_data=val_data_single,\n",
        "                                            validation_steps=10,shuffle=True,class_weight=class_weight) #"
      ],
      "execution_count": 148,
      "outputs": [
        {
          "output_type": "stream",
          "text": [
            "Epoch 1/20\n",
            "200/200 [==============================] - 10s 23ms/step - loss: 0.0128 - accuracy: 0.0547 - val_loss: 1.9123 - val_accuracy: 0.1153\n",
            "Epoch 2/20\n",
            "200/200 [==============================] - 4s 21ms/step - loss: 0.0128 - accuracy: 0.0547 - val_loss: 1.9123 - val_accuracy: 0.1153\n",
            "Epoch 3/20\n",
            "200/200 [==============================] - 4s 21ms/step - loss: 0.0128 - accuracy: 0.0547 - val_loss: 1.9123 - val_accuracy: 0.1153\n",
            "Epoch 4/20\n",
            "200/200 [==============================] - 4s 21ms/step - loss: 0.0128 - accuracy: 0.0547 - val_loss: 1.9123 - val_accuracy: 0.1153\n",
            "Epoch 5/20\n",
            "200/200 [==============================] - 4s 21ms/step - loss: 0.0128 - accuracy: 0.0547 - val_loss: 1.9123 - val_accuracy: 0.1153\n",
            "Epoch 6/20\n",
            "200/200 [==============================] - 4s 20ms/step - loss: 0.0128 - accuracy: 0.0547 - val_loss: 1.9123 - val_accuracy: 0.1153\n",
            "Epoch 7/20\n",
            "200/200 [==============================] - 4s 20ms/step - loss: 0.0128 - accuracy: 0.0547 - val_loss: 1.9123 - val_accuracy: 0.1153\n",
            "Epoch 8/20\n",
            "200/200 [==============================] - 4s 20ms/step - loss: 0.0128 - accuracy: 0.0547 - val_loss: 1.9123 - val_accuracy: 0.1153\n",
            "Epoch 9/20\n",
            "200/200 [==============================] - 4s 20ms/step - loss: 0.0128 - accuracy: 0.0547 - val_loss: 1.9123 - val_accuracy: 0.1153\n",
            "Epoch 10/20\n",
            "200/200 [==============================] - 4s 20ms/step - loss: 0.0128 - accuracy: 0.0547 - val_loss: 1.9123 - val_accuracy: 0.1153\n",
            "Epoch 11/20\n",
            "200/200 [==============================] - 4s 20ms/step - loss: 0.0128 - accuracy: 0.0547 - val_loss: 1.9123 - val_accuracy: 0.1153\n",
            "Epoch 12/20\n",
            "200/200 [==============================] - 4s 21ms/step - loss: 0.0128 - accuracy: 0.0547 - val_loss: 1.9123 - val_accuracy: 0.1153\n",
            "Epoch 13/20\n",
            "200/200 [==============================] - 4s 21ms/step - loss: 0.0128 - accuracy: 0.0547 - val_loss: 1.9123 - val_accuracy: 0.1153\n",
            "Epoch 14/20\n",
            "200/200 [==============================] - 4s 20ms/step - loss: 0.0128 - accuracy: 0.0547 - val_loss: 1.9123 - val_accuracy: 0.1153\n",
            "Epoch 15/20\n",
            "200/200 [==============================] - 4s 21ms/step - loss: 0.0128 - accuracy: 0.0547 - val_loss: 1.9123 - val_accuracy: 0.1153\n",
            "Epoch 16/20\n",
            "200/200 [==============================] - 4s 21ms/step - loss: 0.0128 - accuracy: 0.0547 - val_loss: 1.9123 - val_accuracy: 0.1153\n",
            "Epoch 17/20\n",
            "200/200 [==============================] - 4s 21ms/step - loss: 0.0128 - accuracy: 0.0547 - val_loss: 1.9123 - val_accuracy: 0.1153\n",
            "Epoch 18/20\n",
            "200/200 [==============================] - 4s 21ms/step - loss: 0.0128 - accuracy: 0.0547 - val_loss: 1.9123 - val_accuracy: 0.1153\n",
            "Epoch 19/20\n",
            "200/200 [==============================] - 4s 20ms/step - loss: 0.0128 - accuracy: 0.0547 - val_loss: 1.9123 - val_accuracy: 0.1153\n",
            "Epoch 20/20\n",
            "200/200 [==============================] - 4s 21ms/step - loss: 0.0128 - accuracy: 0.0547 - val_loss: 1.9123 - val_accuracy: 0.1153\n"
          ],
          "name": "stdout"
        }
      ]
    },
    {
      "cell_type": "code",
      "metadata": {
        "colab": {
          "base_uri": "https://localhost:8080/"
        },
        "id": "imiSPg_Tz2PC",
        "outputId": "90464625-4a8b-49c4-8bf2-7ac813f996bd"
      },
      "source": [
        "plot_train_history(single_step_history,\n",
        "                   'Función de pérdida en el entrenamiento del modelo de un paso')"
      ],
      "execution_count": 127,
      "outputs": [
        {
          "output_type": "display_data",
          "data": {
            "image/png": "[encoded data removed]",
            "text/plain": [
              "<Figure size 432x288 with 1 Axes>"
            ]
          },
          "metadata": {
            "tags": [],
            "needs_background": "light"
          }
        }
      ]
    },
    {
      "cell_type": "code",
      "metadata": {
        "colab": {
          "base_uri": "https://localhost:8080/",
          "height": 265
        },
        "id": "aJbxABG2_V51",
        "outputId": "93de14d7-0b18-4fae-ef9d-2d404007cc16"
      },
      "source": [
        "from matplotlib import pyplot as plt\n",
        "\n",
        "plt.plot(single_step_history.history['accuracy'], label='accuracy')\n",
        "plt.plot(single_step_history.history['val_accuracy'], label='val accuracy')\n",
        "plt.legend()\n",
        "plt.show()"
      ],
      "execution_count": 117,
      "outputs": [
        {
          "output_type": "display_data",
          "data": {
            "image/png": "[encoded data removed]",
            "text/plain": [
              "<Figure size 432x288 with 1 Axes>"
            ]
          },
          "metadata": {
            "tags": [],
            "needs_background": "light"
          }
        }
      ]
    },
    {
      "cell_type": "markdown",
      "metadata": {
        "id": "geP9b_W-z2PD"
      },
      "source": [
        "## <span style=\"color:blue\">Predicciones</span>"
      ]
    },
    {
      "cell_type": "markdown",
      "metadata": {
        "id": "QwzSo1tLz2PD"
      },
      "source": [
        "\n",
        "Ahora que el modelo está entrenado, hagamos algunas predicciones de muestra. El modelo tiene el historial de tres features en los últimos cinco días muestreados cada hora (120 puntos de datos), ya que el objetivo es predecir la temperatura, el gráfico solo muestra la temperatura pasada. La predicción se hace un día en el futuro (de ahí la brecha entre la historia y la predicción)."
      ]
    },
    {
      "cell_type": "code",
      "metadata": {
        "colab": {
          "base_uri": "https://localhost:8080/"
        },
        "id": "NKsN2NonN-y_",
        "outputId": "e47efcee-e7c8-428f-a0b9-80b27e005546"
      },
      "source": [
        "y_val_single[0:5]"
      ],
      "execution_count": 108,
      "outputs": [
        {
          "output_type": "execute_result",
          "data": {
            "text/plain": [
              "array([[0., 0., 1.],\n",
              "       [1., 0., 0.],\n",
              "       [0., 1., 0.],\n",
              "       [1., 0., 0.],\n",
              "       [0., 0., 1.]])"
            ]
          },
          "metadata": {
            "tags": []
          },
          "execution_count": 108
        }
      ]
    },
    {
      "cell_type": "code",
      "metadata": {
        "id": "FghAIq4iGbWq"
      },
      "source": [
        "# Predicting the Test set results\n",
        "y_pred = single_step_model.predict(x_val_single)\n",
        "y_pred_c = np.argmax(y_pred, axis=1)"
      ],
      "execution_count": 128,
      "outputs": []
    },
    {
      "cell_type": "code",
      "metadata": {
        "id": "pDSzyNMYz2PE"
      },
      "source": [
        "y_test = np.argmax(y_val_single, axis=1)"
      ],
      "execution_count": 129,
      "outputs": []
    },
    {
      "cell_type": "code",
      "metadata": {
        "colab": {
          "base_uri": "https://localhost:8080/"
        },
        "id": "E4h1Fmf2z2PE",
        "outputId": "49af1f62-9ae3-4ac4-e622-4f32f2e95426"
      },
      "source": [
        "print(y_pred.shape)\n",
        "print(y_test.shape)"
      ],
      "execution_count": 130,
      "outputs": [
        {
          "output_type": "stream",
          "text": [
            "(295, 3)\n",
            "(295,)\n"
          ],
          "name": "stdout"
        }
      ]
    },
    {
      "cell_type": "code",
      "metadata": {
        "colab": {
          "base_uri": "https://localhost:8080/"
        },
        "id": "w_kfuRvFSStY",
        "outputId": "ca7284d2-7bb3-4f11-8330-b19cf0724af6"
      },
      "source": [
        "cm = confusion_matrix(y_test, y_pred_c)\n",
        "cm"
      ],
      "execution_count": 131,
      "outputs": [
        {
          "output_type": "execute_result",
          "data": {
            "text/plain": [
              "array([[  0, 226,   0],\n",
              "       [  0,  35,   0],\n",
              "       [  0,  34,   0]])"
            ]
          },
          "metadata": {
            "tags": []
          },
          "execution_count": 131
        }
      ]
    },
    {
      "cell_type": "code",
      "metadata": {
        "colab": {
          "base_uri": "https://localhost:8080/",
          "height": 282
        },
        "id": "qKe9_LwlVUUG",
        "outputId": "f88689b5-3b5e-4a78-a19a-cdc8bc5a4362"
      },
      "source": [
        "import seaborn as sns\n",
        "sns.heatmap(cm,annot=True)"
      ],
      "execution_count": 101,
      "outputs": [
        {
          "output_type": "execute_result",
          "data": {
            "text/plain": [
              "<matplotlib.axes._subplots.AxesSubplot at 0x7fdbcba21350>"
            ]
          },
          "metadata": {
            "tags": []
          },
          "execution_count": 101
        },
        {
          "output_type": "display_data",
          "data": {
            "image/png": "[encoded data removed]",
            "text/plain": [
              "<Figure size 432x288 with 2 Axes>"
            ]
          },
          "metadata": {
            "tags": [],
            "needs_background": "light"
          }
        }
      ]
    },
    {
      "cell_type": "code",
      "metadata": {
        "id": "9Tkg47scsSLE"
      },
      "source": [
        "single_step_model.save('/content/drive/MyDrive/Colab Notebooks/UN_Mineria_de_datos/Proyecto/Archivos/Datos_Sentimiento/modelo_2.h5')"
      ],
      "execution_count": null,
      "outputs": []
    },
    {
      "cell_type": "code",
      "metadata": {
        "colab": {
          "base_uri": "https://localhost:8080/"
        },
        "id": "QsDqfRtwtRfR",
        "outputId": "dbc4795f-369d-4555-daa5-774b00984926"
      },
      "source": [
        "keras.experimental.export_saved_model(single_step_model,'/content/drive/MyDrive/Colab Notebooks/UN_Mineria_de_datos/Proyecto/Archivos/Datos_Sentimiento')"
      ],
      "execution_count": null,
      "outputs": [
        {
          "output_type": "error",
          "ename": "NameError",
          "evalue": "ignored",
          "traceback": [
            "\u001b[0;31m---------------------------------------------------------------------------\u001b[0m",
            "\u001b[0;31mNameError\u001b[0m                                 Traceback (most recent call last)",
            "\u001b[0;32m<ipython-input-522-9d23d60af1d1>\u001b[0m in \u001b[0;36m<module>\u001b[0;34m()\u001b[0m\n\u001b[0;32m----> 1\u001b[0;31m \u001b[0mkeras\u001b[0m\u001b[0;34m.\u001b[0m\u001b[0mexperimental\u001b[0m\u001b[0;34m.\u001b[0m\u001b[0mexport_saved_model\u001b[0m\u001b[0;34m(\u001b[0m\u001b[0msingle_step_model\u001b[0m\u001b[0;34m,\u001b[0m\u001b[0;34m'/content/drive/MyDrive/Colab Notebooks/UN_Mineria_de_datos/Proyecto/Archivos/Datos_Sentimiento'\u001b[0m\u001b[0;34m)\u001b[0m\u001b[0;34m\u001b[0m\u001b[0;34m\u001b[0m\u001b[0m\n\u001b[0m",
            "\u001b[0;31mNameError\u001b[0m: name 'keras' is not defined"
          ]
        }
      ]
    },
    {
      "cell_type": "markdown",
      "metadata": {
        "id": "hZqy01W4z2PE"
      },
      "source": [
        "### rms"
      ]
    },
    {
      "cell_type": "code",
      "metadata": {
        "id": "bpq-dZ2bz2PF",
        "colab": {
          "base_uri": "https://localhost:8080/"
        },
        "outputId": "5315badc-1549-4080-9446-9e0ed97fb7a5"
      },
      "source": [
        "#rmsLSTM = np.sqrt(np.mean(np.power(y_pred-y_test,2)))\n",
        "#print(rmsLSTM )"
      ],
      "execution_count": null,
      "outputs": [
        {
          "output_type": "stream",
          "text": [
            "0.5169201850699908\n"
          ],
          "name": "stdout"
        }
      ]
    },
    {
      "cell_type": "code",
      "metadata": {
        "id": "5a03i_Knz2PF"
      },
      "source": [
        "def plot_series(y_test,y_pred, title, x_label, y_label,epochs):\n",
        "    plt.plot(np.arange(0, len(y_test)), y_test, marker='.', label=\"verdadero\")\n",
        "    plt.plot(np.arange(0, len(y_test)), y_pred, marker='+', label=\"predicho\")\n",
        "    plt.xlabel(x_label)\n",
        "    plt.ylabel(y_label)\n",
        "    #plt.annotate(\"rms=\"+str(round(rms,2)) , xy=(500, 1.3), size = 10)\n",
        "    #plt.annotate(\"modelo = LSTM(50), timestep=60\" , xy=(100, 146), size = 15)\n",
        "    #\n",
        "    plt.annotate(\"epochs=\"+str(epochs) , xy=(500, 1.5), size = 10)\n",
        "    plt.title(title)\n",
        "    plt.legend()\n",
        "    plt.show()\n",
        "    \n"
      ],
      "execution_count": null,
      "outputs": []
    },
    {
      "cell_type": "code",
      "metadata": {
        "id": "74Puwj-Nz2PF",
        "colab": {
          "base_uri": "https://localhost:8080/",
          "height": 529
        },
        "outputId": "9bebaa4e-d24f-44b1-ad9b-830e96777f8f"
      },
      "source": [
        "title = \"Intervalo de predicción a 12 horas (72 obs). Escala estandarizada\"\n",
        "x_label = 'Tiempo'\n",
        "y_label = 'Temperatura normalizada'\n",
        "rms = rmsLSTM\n",
        "plot_series(y_test[:2000], y_pred[:2000],title,x_label, y_label, epochs=10 )"
      ],
      "execution_count": null,
      "outputs": [
        {
          "output_type": "display_data",
          "data": {
            "image/png": "[encoded data removed]",
            "text/plain": [
              "<Figure size 576x432 with 1 Axes>"
            ]
          },
          "metadata": {
            "tags": [],
            "needs_background": "light"
          }
        }
      ]
    }
  ]
}