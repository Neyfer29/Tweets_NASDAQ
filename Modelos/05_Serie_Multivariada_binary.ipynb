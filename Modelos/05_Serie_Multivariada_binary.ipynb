{
  "nbformat": 4,
  "nbformat_minor": 0,
  "metadata": {
    "kernelspec": {
      "display_name": "Python 3",
      "language": "python",
      "name": "python3"
    },
    "language_info": {
      "codemirror_mode": {
        "name": "ipython",
        "version": 3
      },
      "file_extension": ".py",
      "mimetype": "text/x-python",
      "name": "python",
      "nbconvert_exporter": "python",
      "pygments_lexer": "ipython3",
      "version": "3.8.8"
    },
    "colab": {
      "name": "05_Serie_Multivariada_binary.ipynb",
      "provenance": [],
      "collapsed_sections": [
        "5spOZmFKz2Ow",
        "EeOZOGB1z2Oy",
        "hZqy01W4z2PE",
        "dvpl4BZTz2PF",
        "GXcRWbw3z2PI",
        "uT9f8V36z2PK",
        "cjmPHsZaz2PK"
      ]
    }
  },
  "cells": [
    {
      "cell_type": "markdown",
      "metadata": {
        "id": "8OVIQpq1z-dH"
      },
      "source": [
        "# **Serie multivariada**"
      ]
    },
    {
      "cell_type": "markdown",
      "metadata": {
        "id": "TE_5MH0kz2Op"
      },
      "source": [
        "## <span style=\"color:blue\">Importar las librería requeridas</span>"
      ]
    },
    {
      "cell_type": "code",
      "metadata": {
        "colab": {
          "base_uri": "https://localhost:8080/"
        },
        "id": "RSTLVrNez2Oq",
        "outputId": "47cb9689-f055-4f9a-ed2d-704232f8cb83"
      },
      "source": [
        "import tensorflow as tf\n",
        "\n",
        "import matplotlib as mpl\n",
        "import matplotlib.pyplot as plt\n",
        "import numpy as np\n",
        "import os\n",
        "import pandas as pd\n",
        "\n",
        "mpl.rcParams['figure.figsize'] = (8, 6)\n",
        "mpl.rcParams['axes.grid'] = False\n",
        "\n",
        "print('version de tf: ', tf.__version__)\n",
        "\n",
        "from tensorflow.keras.layers import Input, LSTM, Dense, Dropout\n",
        "from tensorflow.keras.models import Model\n",
        "from tensorflow.keras.optimizers import Adam "
      ],
      "execution_count": null,
      "outputs": [
        {
          "output_type": "stream",
          "text": [
            "version de tf:  2.5.0\n"
          ],
          "name": "stdout"
        }
      ]
    },
    {
      "cell_type": "markdown",
      "metadata": {
        "id": "Ou_GInpyz2Os"
      },
      "source": [
        "## <span style=\"color:blue\">Datos - AAPL </span> \n"
      ]
    },
    {
      "cell_type": "code",
      "metadata": {
        "colab": {
          "base_uri": "https://localhost:8080/"
        },
        "id": "EZqQ224_z2Ot",
        "outputId": "e1c85bd3-d784-4a49-ea20-aa5bbc3e34ac"
      },
      "source": [
        "from google.colab import drive\n",
        "drive.mount('/content/drive')"
      ],
      "execution_count": null,
      "outputs": [
        {
          "output_type": "stream",
          "text": [
            "Mounted at /content/drive\n"
          ],
          "name": "stdout"
        }
      ]
    },
    {
      "cell_type": "code",
      "metadata": {
        "id": "n0MaT2yVz2Ou"
      },
      "source": [
        "df = pd.read_csv('/content/drive/MyDrive/Colab Notebooks/UN_Mineria_de_datos/Proyecto/Archivos/Datos_Sentimiento/AAPL_fin_2.csv', sep=';', header=0)"
      ],
      "execution_count": null,
      "outputs": []
    },
    {
      "cell_type": "markdown",
      "metadata": {
        "id": "TfQHxcnZz2Ov"
      },
      "source": [
        "### Una primera mirada a los datos "
      ]
    },
    {
      "cell_type": "code",
      "metadata": {
        "colab": {
          "base_uri": "https://localhost:8080/",
          "height": 204
        },
        "id": "mrLydpywz2Ov",
        "outputId": "00f2062e-a954-403b-f410-3ce51d36750f"
      },
      "source": [
        "df.head()"
      ],
      "execution_count": null,
      "outputs": [
        {
          "output_type": "execute_result",
          "data": {
            "text/html": [
              "<div>\n",
              "<style scoped>\n",
              "    .dataframe tbody tr th:only-of-type {\n",
              "        vertical-align: middle;\n",
              "    }\n",
              "\n",
              "    .dataframe tbody tr th {\n",
              "        vertical-align: top;\n",
              "    }\n",
              "\n",
              "    .dataframe thead th {\n",
              "        text-align: right;\n",
              "    }\n",
              "</style>\n",
              "<table border=\"1\" class=\"dataframe\">\n",
              "  <thead>\n",
              "    <tr style=\"text-align: right;\">\n",
              "      <th></th>\n",
              "      <th>post_date</th>\n",
              "      <th>numero</th>\n",
              "      <th>retweets</th>\n",
              "      <th>likes</th>\n",
              "      <th>positivo</th>\n",
              "      <th>negativo</th>\n",
              "      <th>dif_close</th>\n",
              "      <th>Indicadora</th>\n",
              "      <th>dif_std</th>\n",
              "      <th>Indicadora_2</th>\n",
              "      <th>retweetXcal</th>\n",
              "    </tr>\n",
              "  </thead>\n",
              "  <tbody>\n",
              "    <tr>\n",
              "      <th>0</th>\n",
              "      <td>2015-01-02</td>\n",
              "      <td>867</td>\n",
              "      <td>2.115340</td>\n",
              "      <td>0.504037</td>\n",
              "      <td>0.239908</td>\n",
              "      <td>0.517878</td>\n",
              "      <td>-0.770000</td>\n",
              "      <td>0</td>\n",
              "      <td>-0.060877</td>\n",
              "      <td>0</td>\n",
              "      <td>0.342421</td>\n",
              "    </tr>\n",
              "    <tr>\n",
              "      <th>1</th>\n",
              "      <td>2015-01-05</td>\n",
              "      <td>1145</td>\n",
              "      <td>0.360699</td>\n",
              "      <td>0.517031</td>\n",
              "      <td>0.248035</td>\n",
              "      <td>0.449782</td>\n",
              "      <td>0.002501</td>\n",
              "      <td>0</td>\n",
              "      <td>0.168522</td>\n",
              "      <td>0</td>\n",
              "      <td>0.024213</td>\n",
              "    </tr>\n",
              "    <tr>\n",
              "      <th>2</th>\n",
              "      <td>2015-01-06</td>\n",
              "      <td>1190</td>\n",
              "      <td>0.190756</td>\n",
              "      <td>0.393277</td>\n",
              "      <td>0.288235</td>\n",
              "      <td>0.389916</td>\n",
              "      <td>0.372499</td>\n",
              "      <td>0</td>\n",
              "      <td>0.278396</td>\n",
              "      <td>0</td>\n",
              "      <td>-0.308370</td>\n",
              "    </tr>\n",
              "    <tr>\n",
              "      <th>3</th>\n",
              "      <td>2015-01-07</td>\n",
              "      <td>1087</td>\n",
              "      <td>0.191352</td>\n",
              "      <td>0.507820</td>\n",
              "      <td>0.261270</td>\n",
              "      <td>0.433303</td>\n",
              "      <td>1.035000</td>\n",
              "      <td>1</td>\n",
              "      <td>0.475129</td>\n",
              "      <td>1</td>\n",
              "      <td>-0.091346</td>\n",
              "    </tr>\n",
              "    <tr>\n",
              "      <th>4</th>\n",
              "      <td>2015-01-08</td>\n",
              "      <td>1491</td>\n",
              "      <td>0.334004</td>\n",
              "      <td>0.570758</td>\n",
              "      <td>0.335345</td>\n",
              "      <td>0.396378</td>\n",
              "      <td>0.030001</td>\n",
              "      <td>0</td>\n",
              "      <td>0.176689</td>\n",
              "      <td>0</td>\n",
              "      <td>0.038153</td>\n",
              "    </tr>\n",
              "  </tbody>\n",
              "</table>\n",
              "</div>"
            ],
            "text/plain": [
              "    post_date  numero  retweets  ...   dif_std  Indicadora_2  retweetXcal\n",
              "0  2015-01-02     867  2.115340  ... -0.060877             0     0.342421\n",
              "1  2015-01-05    1145  0.360699  ...  0.168522             0     0.024213\n",
              "2  2015-01-06    1190  0.190756  ...  0.278396             0    -0.308370\n",
              "3  2015-01-07    1087  0.191352  ...  0.475129             1    -0.091346\n",
              "4  2015-01-08    1491  0.334004  ...  0.176689             0     0.038153\n",
              "\n",
              "[5 rows x 11 columns]"
            ]
          },
          "metadata": {
            "tags": []
          },
          "execution_count": 7
        }
      ]
    },
    {
      "cell_type": "code",
      "metadata": {
        "colab": {
          "base_uri": "https://localhost:8080/",
          "height": 359
        },
        "id": "XleWjLONz2Ov",
        "outputId": "1a8028d3-cf9f-4b55-ca43-5413f154b171"
      },
      "source": [
        "df.describe().T "
      ],
      "execution_count": null,
      "outputs": [
        {
          "output_type": "execute_result",
          "data": {
            "text/html": [
              "<div>\n",
              "<style scoped>\n",
              "    .dataframe tbody tr th:only-of-type {\n",
              "        vertical-align: middle;\n",
              "    }\n",
              "\n",
              "    .dataframe tbody tr th {\n",
              "        vertical-align: top;\n",
              "    }\n",
              "\n",
              "    .dataframe thead th {\n",
              "        text-align: right;\n",
              "    }\n",
              "</style>\n",
              "<table border=\"1\" class=\"dataframe\">\n",
              "  <thead>\n",
              "    <tr style=\"text-align: right;\">\n",
              "      <th></th>\n",
              "      <th>count</th>\n",
              "      <th>mean</th>\n",
              "      <th>std</th>\n",
              "      <th>min</th>\n",
              "      <th>25%</th>\n",
              "      <th>50%</th>\n",
              "      <th>75%</th>\n",
              "      <th>max</th>\n",
              "    </tr>\n",
              "  </thead>\n",
              "  <tbody>\n",
              "    <tr>\n",
              "      <th>numero</th>\n",
              "      <td>1253.0</td>\n",
              "      <td>977.901836</td>\n",
              "      <td>603.766954</td>\n",
              "      <td>7.000000</td>\n",
              "      <td>622.000000</td>\n",
              "      <td>826.000000</td>\n",
              "      <td>1158.000000</td>\n",
              "      <td>5029.000000</td>\n",
              "    </tr>\n",
              "    <tr>\n",
              "      <th>retweets</th>\n",
              "      <td>1253.0</td>\n",
              "      <td>0.504838</td>\n",
              "      <td>0.318086</td>\n",
              "      <td>0.000000</td>\n",
              "      <td>0.314759</td>\n",
              "      <td>0.418902</td>\n",
              "      <td>0.588872</td>\n",
              "      <td>2.671982</td>\n",
              "    </tr>\n",
              "    <tr>\n",
              "      <th>likes</th>\n",
              "      <td>1253.0</td>\n",
              "      <td>1.044028</td>\n",
              "      <td>0.711237</td>\n",
              "      <td>0.142857</td>\n",
              "      <td>0.495690</td>\n",
              "      <td>0.878492</td>\n",
              "      <td>1.407643</td>\n",
              "      <td>5.200346</td>\n",
              "    </tr>\n",
              "    <tr>\n",
              "      <th>positivo</th>\n",
              "      <td>1253.0</td>\n",
              "      <td>0.251788</td>\n",
              "      <td>0.046768</td>\n",
              "      <td>0.000000</td>\n",
              "      <td>0.220725</td>\n",
              "      <td>0.249673</td>\n",
              "      <td>0.278632</td>\n",
              "      <td>0.571429</td>\n",
              "    </tr>\n",
              "    <tr>\n",
              "      <th>negativo</th>\n",
              "      <td>1253.0</td>\n",
              "      <td>0.539958</td>\n",
              "      <td>0.064412</td>\n",
              "      <td>0.166667</td>\n",
              "      <td>0.498503</td>\n",
              "      <td>0.538131</td>\n",
              "      <td>0.577812</td>\n",
              "      <td>1.000000</td>\n",
              "    </tr>\n",
              "    <tr>\n",
              "      <th>dif_close</th>\n",
              "      <td>1253.0</td>\n",
              "      <td>0.037829</td>\n",
              "      <td>0.621583</td>\n",
              "      <td>-3.932499</td>\n",
              "      <td>-0.212500</td>\n",
              "      <td>0.027496</td>\n",
              "      <td>0.334999</td>\n",
              "      <td>2.802502</td>\n",
              "    </tr>\n",
              "    <tr>\n",
              "      <th>Indicadora</th>\n",
              "      <td>1253.0</td>\n",
              "      <td>-0.003192</td>\n",
              "      <td>0.324686</td>\n",
              "      <td>-1.000000</td>\n",
              "      <td>0.000000</td>\n",
              "      <td>0.000000</td>\n",
              "      <td>0.000000</td>\n",
              "      <td>1.000000</td>\n",
              "    </tr>\n",
              "    <tr>\n",
              "      <th>dif_std</th>\n",
              "      <td>1253.0</td>\n",
              "      <td>0.179013</td>\n",
              "      <td>0.184583</td>\n",
              "      <td>-1.000000</td>\n",
              "      <td>0.104677</td>\n",
              "      <td>0.175945</td>\n",
              "      <td>0.267260</td>\n",
              "      <td>1.000000</td>\n",
              "    </tr>\n",
              "    <tr>\n",
              "      <th>Indicadora_2</th>\n",
              "      <td>1253.0</td>\n",
              "      <td>0.105347</td>\n",
              "      <td>0.307123</td>\n",
              "      <td>0.000000</td>\n",
              "      <td>0.000000</td>\n",
              "      <td>0.000000</td>\n",
              "      <td>0.000000</td>\n",
              "      <td>1.000000</td>\n",
              "    </tr>\n",
              "    <tr>\n",
              "      <th>retweetXcal</th>\n",
              "      <td>1252.0</td>\n",
              "      <td>-0.202271</td>\n",
              "      <td>0.266870</td>\n",
              "      <td>-0.923077</td>\n",
              "      <td>-0.369054</td>\n",
              "      <td>-0.213224</td>\n",
              "      <td>-0.050821</td>\n",
              "      <td>0.911513</td>\n",
              "    </tr>\n",
              "  </tbody>\n",
              "</table>\n",
              "</div>"
            ],
            "text/plain": [
              "               count        mean  ...          75%          max\n",
              "numero        1253.0  977.901836  ...  1158.000000  5029.000000\n",
              "retweets      1253.0    0.504838  ...     0.588872     2.671982\n",
              "likes         1253.0    1.044028  ...     1.407643     5.200346\n",
              "positivo      1253.0    0.251788  ...     0.278632     0.571429\n",
              "negativo      1253.0    0.539958  ...     0.577812     1.000000\n",
              "dif_close     1253.0    0.037829  ...     0.334999     2.802502\n",
              "Indicadora    1253.0   -0.003192  ...     0.000000     1.000000\n",
              "dif_std       1253.0    0.179013  ...     0.267260     1.000000\n",
              "Indicadora_2  1253.0    0.105347  ...     0.000000     1.000000\n",
              "retweetXcal   1252.0   -0.202271  ...    -0.050821     0.911513\n",
              "\n",
              "[10 rows x 8 columns]"
            ]
          },
          "metadata": {
            "tags": []
          },
          "execution_count": 8
        }
      ]
    },
    {
      "cell_type": "code",
      "metadata": {
        "colab": {
          "base_uri": "https://localhost:8080/"
        },
        "id": "VRMFcS3Z8Ezh",
        "outputId": "e35820ac-413b-44a2-904b-9dc3023931b5"
      },
      "source": [
        "df.dtypes"
      ],
      "execution_count": null,
      "outputs": [
        {
          "output_type": "execute_result",
          "data": {
            "text/plain": [
              "post_date        object\n",
              "numero            int64\n",
              "retweets        float64\n",
              "likes           float64\n",
              "positivo        float64\n",
              "negativo        float64\n",
              "dif_close       float64\n",
              "Indicadora        int64\n",
              "dif_std         float64\n",
              "Indicadora_2      int64\n",
              "retweetXcal     float64\n",
              "dtype: object"
            ]
          },
          "metadata": {
            "tags": []
          },
          "execution_count": 9
        }
      ]
    },
    {
      "cell_type": "code",
      "metadata": {
        "id": "uGJtc2E0ICE4"
      },
      "source": [
        "df['indi_bin']=df['Indicadora'].abs()"
      ],
      "execution_count": null,
      "outputs": []
    },
    {
      "cell_type": "code",
      "metadata": {
        "colab": {
          "base_uri": "https://localhost:8080/",
          "height": 391
        },
        "id": "aoGsaD1AJfZU",
        "outputId": "c42a073d-55be-4f1d-d522-562dae703e42"
      },
      "source": [
        "df['indi_bin'].hist()"
      ],
      "execution_count": null,
      "outputs": [
        {
          "output_type": "execute_result",
          "data": {
            "text/plain": [
              "<matplotlib.axes._subplots.AxesSubplot at 0x7efda980dcd0>"
            ]
          },
          "metadata": {
            "tags": []
          },
          "execution_count": 11
        },
        {
          "output_type": "display_data",
          "data": {
            "image/png": "[encoded data removed]",
            "text/plain": [
              "<Figure size 576x432 with 1 Axes>"
            ]
          },
          "metadata": {
            "tags": [],
            "needs_background": "light"
          }
        }
      ]
    },
    {
      "cell_type": "code",
      "metadata": {
        "colab": {
          "base_uri": "https://localhost:8080/",
          "height": 901
        },
        "id": "Jg-GV65152o4",
        "outputId": "b405fb32-a381-4a31-b347-14537ae8e75b"
      },
      "source": [
        "# Plotting the Autocorrelation plot.\n",
        "plt.acorr(df['retweets'], maxlags = 50)"
      ],
      "execution_count": null,
      "outputs": [
        {
          "output_type": "execute_result",
          "data": {
            "text/plain": [
              "(array([-50, -49, -48, -47, -46, -45, -44, -43, -42, -41, -40, -39, -38,\n",
              "        -37, -36, -35, -34, -33, -32, -31, -30, -29, -28, -27, -26, -25,\n",
              "        -24, -23, -22, -21, -20, -19, -18, -17, -16, -15, -14, -13, -12,\n",
              "        -11, -10,  -9,  -8,  -7,  -6,  -5,  -4,  -3,  -2,  -1,   0,   1,\n",
              "          2,   3,   4,   5,   6,   7,   8,   9,  10,  11,  12,  13,  14,\n",
              "         15,  16,  17,  18,  19,  20,  21,  22,  23,  24,  25,  26,  27,\n",
              "         28,  29,  30,  31,  32,  33,  34,  35,  36,  37,  38,  39,  40,\n",
              "         41,  42,  43,  44,  45,  46,  47,  48,  49,  50]),\n",
              " array([0.70796304, 0.70504358, 0.70028399, 0.69686629, 0.70902719,\n",
              "        0.70557382, 0.70124403, 0.71944694, 0.70819079, 0.70725596,\n",
              "        0.71206026, 0.73048356, 0.72636233, 0.71381092, 0.71487965,\n",
              "        0.74041178, 0.71493998, 0.71008082, 0.71193665, 0.72782205,\n",
              "        0.73494338, 0.71671867, 0.72163031, 0.71877361, 0.75288026,\n",
              "        0.73444131, 0.74170142, 0.73879401, 0.74987975, 0.73489902,\n",
              "        0.73031311, 0.73652   , 0.73383708, 0.75785497, 0.74325553,\n",
              "        0.76008822, 0.74828058, 0.76853169, 0.74120616, 0.76139352,\n",
              "        0.7641697 , 0.78080196, 0.75867691, 0.75632214, 0.75061979,\n",
              "        0.75896421, 0.78147567, 0.76671884, 0.76572242, 0.78370883,\n",
              "        1.        , 0.78370883, 0.76572242, 0.76671884, 0.78147567,\n",
              "        0.75896421, 0.75061979, 0.75632214, 0.75867691, 0.78080196,\n",
              "        0.7641697 , 0.76139352, 0.74120616, 0.76853169, 0.74828058,\n",
              "        0.76008822, 0.74325553, 0.75785497, 0.73383708, 0.73652   ,\n",
              "        0.73031311, 0.73489902, 0.74987975, 0.73879401, 0.74170142,\n",
              "        0.73444131, 0.75288026, 0.71877361, 0.72163031, 0.71671867,\n",
              "        0.73494338, 0.72782205, 0.71193665, 0.71008082, 0.71493998,\n",
              "        0.74041178, 0.71487965, 0.71381092, 0.72636233, 0.73048356,\n",
              "        0.71206026, 0.70725596, 0.70819079, 0.71944694, 0.70124403,\n",
              "        0.70557382, 0.70902719, 0.69686629, 0.70028399, 0.70504358,\n",
              "        0.70796304]),\n",
              " <matplotlib.collections.LineCollection at 0x7efda9260a90>,\n",
              " <matplotlib.lines.Line2D at 0x7efda925a990>)"
            ]
          },
          "metadata": {
            "tags": []
          },
          "execution_count": 12
        },
        {
          "output_type": "display_data",
          "data": {
            "image/png": "[encoded data removed]",
            "text/plain": [
              "<Figure size 576x432 with 1 Axes>"
            ]
          },
          "metadata": {
            "tags": [],
            "needs_background": "light"
          }
        }
      ]
    },
    {
      "cell_type": "code",
      "metadata": {
        "colab": {
          "base_uri": "https://localhost:8080/",
          "height": 409
        },
        "id": "nTY_0O0C9Rq3",
        "outputId": "0af5f2da-0e6a-4100-8fd7-260b3de56fa9"
      },
      "source": [
        "# Creating Autocorrelation plot\n",
        "x = pd.plotting.autocorrelation_plot(df['dif_close'])\n",
        "  \n",
        "# ploting the Curve\n",
        "x.plot()"
      ],
      "execution_count": null,
      "outputs": [
        {
          "output_type": "execute_result",
          "data": {
            "text/plain": [
              "[]"
            ]
          },
          "metadata": {
            "tags": []
          },
          "execution_count": 13
        },
        {
          "output_type": "display_data",
          "data": {
            "image/png": "[encoded data removed]",
            "text/plain": [
              "<Figure size 576x432 with 1 Axes>"
            ]
          },
          "metadata": {
            "tags": [],
            "needs_background": "light"
          }
        }
      ]
    },
    {
      "cell_type": "markdown",
      "metadata": {
        "id": "5spOZmFKz2Ow"
      },
      "source": [
        "## <span style=\"color:blue\">Funciones para gráficos</span>"
      ]
    },
    {
      "cell_type": "code",
      "metadata": {
        "id": "ji28-Aguz2Ow"
      },
      "source": [
        "def create_time_steps(length):\n",
        "  return list(range(-length, 0))"
      ],
      "execution_count": null,
      "outputs": []
    },
    {
      "cell_type": "code",
      "metadata": {
        "tags": [],
        "id": "Qkva4ke_z2Ow"
      },
      "source": [
        "def show_plot(plot_data, delta, title):\n",
        "  labels = ['Historia', 'Futuro Verdadero' , 'Predicción del Modelo']\n",
        "  marker = ['.-', 'rx', 'go']\n",
        "  time_steps = create_time_steps(plot_data[0].shape[0])\n",
        "  if delta:\n",
        "    future = delta\n",
        "  else:\n",
        "    future = 0\n",
        "\n",
        "  plt.title(title)\n",
        "  for i, x in enumerate(plot_data):\n",
        "    if i:\n",
        "      plt.plot(future, plot_data[i], marker[i], markersize=10,\n",
        "               label=labels[i])\n",
        "    else:\n",
        "      plt.plot(time_steps, plot_data[i].flatten(), marker[i], label=labels[i])\n",
        "  plt.legend()\n",
        "  plt.xlim([time_steps[0], (future+5)*2])\n",
        "  plt.xlabel('Salto de tiempo (Time-Step)')\n",
        "  return plt"
      ],
      "execution_count": null,
      "outputs": []
    },
    {
      "cell_type": "code",
      "metadata": {
        "id": "c_eqIzhnz2Ox"
      },
      "source": [
        "def plot_train_history(history, title):\n",
        "    loss = history.history['loss']\n",
        "    val_loss = history.history['val_loss']\n",
        "\n",
        "    epochs = range(len(loss))\n",
        "\n",
        "    plt.figure()\n",
        "\n",
        "    plt.plot(epochs, loss, 'b', label='Pérdida entrenamiento')\n",
        "    plt.plot(epochs, val_loss, 'r', label='Pérdida validación')\n",
        "    plt.title(title)\n",
        "    plt.legend()\n",
        "\n",
        "    plt.show()"
      ],
      "execution_count": null,
      "outputs": []
    },
    {
      "cell_type": "code",
      "metadata": {
        "id": "XY2SgXNIz2Ox"
      },
      "source": [
        "def plot_serie_prediction(y_test, y_pred,rms, epochs):\n",
        "    plt.plot(np.arange(0, len(y_test)), y_test, marker='.', label=\"verdadero\")\n",
        "    plt.plot(np.arange(0, len(y_test)), y_pred, marker='+', label=\"predicho\")\n",
        "    plt.xlabel('Time Step')\n",
        "    plt.annotate(\"rms = \"+str(round(rms,2)) , xy=(100, 140), size = 15)\n",
        "    #plt.annotate(\"modelo = LSTM(50), timestep=60\" , xy=(100, 146), size = 15)\n",
        "    #plt.annotate(\"epochs=40\" , xy=(100, 143), size = 15)\n",
        "    plt.title(\"Intervalo de predicción a un día. Escala original\", size = 20)\n",
        "    plt.legend()\n",
        "    plt.show()"
      ],
      "execution_count": null,
      "outputs": []
    },
    {
      "cell_type": "markdown",
      "metadata": {
        "id": "DrjzIefoz2Ox"
      },
      "source": [
        "## <span style=\"color:blue\">Funciones para preparar datos de entrenamiento</span>"
      ]
    },
    {
      "cell_type": "markdown",
      "metadata": {
        "id": "EeOZOGB1z2Oy"
      },
      "source": [
        "### Caso Univariado"
      ]
    },
    {
      "cell_type": "code",
      "metadata": {
        "tags": [],
        "id": "NOAGwKMuz2Oy"
      },
      "source": [
        "def univariate_data(dataset, start_index, end_index, history_size, target_size):\n",
        "    ''' dataset: conjunto de datos\n",
        "        start_index: índice inicial de donde empezar a tomar los datos\n",
        "        end_index: índice final para tomar los datos. None para tomarlos todos\n",
        "        history_size: tamaño de la venytana para crear las secuencias\n",
        "        target_size: dentro de cuántas observaciones futuras desea pronosticar\n",
        "    '''\n",
        "   \n",
        "    data = []\n",
        "    labels = []\n",
        "\n",
        "    start_index = start_index + history_size\n",
        "    if end_index is None:\n",
        "        end_index = len(dataset) - target_size\n",
        "\n",
        "    for i in range(start_index, end_index):\n",
        "        indices = range(i-history_size, i)\n",
        "        # Reshape data from (history_size,) to (history_size, 1)\n",
        "        data.append(np.reshape(dataset[indices], (history_size, 1)))\n",
        "        labels.append(dataset[i+target_size])\n",
        "    \n",
        "    return np.array(data), np.array(labels)"
      ],
      "execution_count": null,
      "outputs": []
    },
    {
      "cell_type": "markdown",
      "metadata": {
        "id": "reTbGphcz2Oy"
      },
      "source": [
        "### Caso multivariado"
      ]
    },
    {
      "cell_type": "code",
      "metadata": {
        "id": "CyNW-D8-z2Oy"
      },
      "source": [
        "def multivariate_data(dataset, target, start_index, end_index, history_size,\n",
        "                      target_size, step, single_step=False):\n",
        "    ''' dataset: conjunto de datos para las secuencias de entrada\n",
        "        target:  conjunto de datos para las secuencias de salida\n",
        "        start_index: índice inicial de donde empezar a tomar los datos\n",
        "        end_index: índice final para tomar los datos. None para tomarlos todos\n",
        "        history_size: tamaño de la venytana para crear las secuencias\n",
        "        target_size: dentro de cuántas observaciones futuras desea pronosticar\n",
        "        step: Cada cuántas observaciones deben tomarse. Para secuencias muy largas\n",
        "              que no cambia mucho localmente\n",
        "        single_step: Predecir solamente un valor futuro (=True),\n",
        "                     o predecir todos los valores hasta target_size(=False)\n",
        "    '''  \n",
        "    data = []\n",
        "    labels = []\n",
        "\n",
        "    start_index = start_index + history_size\n",
        "    if end_index is None:\n",
        "        end_index = len(dataset) - target_size\n",
        "\n",
        "    for i in range(start_index, end_index):\n",
        "        indices = range(i-history_size, i, step)\n",
        "        data.append(dataset[indices])\n",
        "\n",
        "        if single_step:\n",
        "            labels.append(target[i+target_size])\n",
        "        else:\n",
        "            labels.append(target[i:i+target_size])\n",
        "\n",
        "    return np.array(data), np.array(labels)"
      ],
      "execution_count": null,
      "outputs": []
    },
    {
      "cell_type": "markdown",
      "metadata": {
        "id": "Hvm7rJZDz2Oz"
      },
      "source": [
        "## <span style=\"color:blue\">Pronóstico de una serie de tiempo multivariada</span>"
      ]
    },
    {
      "cell_type": "code",
      "metadata": {
        "colab": {
          "base_uri": "https://localhost:8080/"
        },
        "id": "6u7FNY869iS2",
        "outputId": "a41a6336-ede7-4cd3-b790-452a64e1b871"
      },
      "source": [
        "print(df.shape[0])\n",
        "df.shape[0]*0.25"
      ],
      "execution_count": 241,
      "outputs": [
        {
          "output_type": "stream",
          "text": [
            "1253\n"
          ],
          "name": "stdout"
        },
        {
          "output_type": "execute_result",
          "data": {
            "text/plain": [
              "313.25"
            ]
          },
          "metadata": {
            "tags": []
          },
          "execution_count": 241
        }
      ]
    },
    {
      "cell_type": "code",
      "metadata": {
        "id": "Lp8Afok9z2Oz"
      },
      "source": [
        "TRAIN_SPLIT = 1250"
      ],
      "execution_count": 328,
      "outputs": []
    },
    {
      "cell_type": "markdown",
      "metadata": {
        "tags": [],
        "id": "IzkyHocfz2Oz"
      },
      "source": [
        "Se coloca una semilla para gerantizar reproductibidad"
      ]
    },
    {
      "cell_type": "code",
      "metadata": {
        "tags": [],
        "id": "JEK9jRtxz2Oz"
      },
      "source": [
        "tf.random.set_seed(13)"
      ],
      "execution_count": 329,
      "outputs": []
    },
    {
      "cell_type": "code",
      "metadata": {
        "id": "S2xAs3Wmz2O0"
      },
      "source": [
        "features_considered = ['numero', 'retweets', 'likes', 'positivo','negativo']#, "
      ],
      "execution_count": 534,
      "outputs": []
    },
    {
      "cell_type": "code",
      "metadata": {
        "colab": {
          "base_uri": "https://localhost:8080/",
          "height": 235
        },
        "id": "FuEzXxruz2O3",
        "outputId": "dd98527f-9ac9-4bc3-f2d7-1bc8ecb5bbb8"
      },
      "source": [
        "features = df[features_considered]\n",
        "features.index = df['post_date']\n",
        "features.head()"
      ],
      "execution_count": 535,
      "outputs": [
        {
          "output_type": "execute_result",
          "data": {
            "text/html": [
              "<div>\n",
              "<style scoped>\n",
              "    .dataframe tbody tr th:only-of-type {\n",
              "        vertical-align: middle;\n",
              "    }\n",
              "\n",
              "    .dataframe tbody tr th {\n",
              "        vertical-align: top;\n",
              "    }\n",
              "\n",
              "    .dataframe thead th {\n",
              "        text-align: right;\n",
              "    }\n",
              "</style>\n",
              "<table border=\"1\" class=\"dataframe\">\n",
              "  <thead>\n",
              "    <tr style=\"text-align: right;\">\n",
              "      <th></th>\n",
              "      <th>numero</th>\n",
              "      <th>retweets</th>\n",
              "      <th>likes</th>\n",
              "      <th>positivo</th>\n",
              "      <th>negativo</th>\n",
              "    </tr>\n",
              "    <tr>\n",
              "      <th>post_date</th>\n",
              "      <th></th>\n",
              "      <th></th>\n",
              "      <th></th>\n",
              "      <th></th>\n",
              "      <th></th>\n",
              "    </tr>\n",
              "  </thead>\n",
              "  <tbody>\n",
              "    <tr>\n",
              "      <th>2015-01-02</th>\n",
              "      <td>867</td>\n",
              "      <td>2.115340</td>\n",
              "      <td>0.504037</td>\n",
              "      <td>0.239908</td>\n",
              "      <td>0.517878</td>\n",
              "    </tr>\n",
              "    <tr>\n",
              "      <th>2015-01-05</th>\n",
              "      <td>1145</td>\n",
              "      <td>0.360699</td>\n",
              "      <td>0.517031</td>\n",
              "      <td>0.248035</td>\n",
              "      <td>0.449782</td>\n",
              "    </tr>\n",
              "    <tr>\n",
              "      <th>2015-01-06</th>\n",
              "      <td>1190</td>\n",
              "      <td>0.190756</td>\n",
              "      <td>0.393277</td>\n",
              "      <td>0.288235</td>\n",
              "      <td>0.389916</td>\n",
              "    </tr>\n",
              "    <tr>\n",
              "      <th>2015-01-07</th>\n",
              "      <td>1087</td>\n",
              "      <td>0.191352</td>\n",
              "      <td>0.507820</td>\n",
              "      <td>0.261270</td>\n",
              "      <td>0.433303</td>\n",
              "    </tr>\n",
              "    <tr>\n",
              "      <th>2015-01-08</th>\n",
              "      <td>1491</td>\n",
              "      <td>0.334004</td>\n",
              "      <td>0.570758</td>\n",
              "      <td>0.335345</td>\n",
              "      <td>0.396378</td>\n",
              "    </tr>\n",
              "  </tbody>\n",
              "</table>\n",
              "</div>"
            ],
            "text/plain": [
              "            numero  retweets     likes  positivo  negativo\n",
              "post_date                                                 \n",
              "2015-01-02     867  2.115340  0.504037  0.239908  0.517878\n",
              "2015-01-05    1145  0.360699  0.517031  0.248035  0.449782\n",
              "2015-01-06    1190  0.190756  0.393277  0.288235  0.389916\n",
              "2015-01-07    1087  0.191352  0.507820  0.261270  0.433303\n",
              "2015-01-08    1491  0.334004  0.570758  0.335345  0.396378"
            ]
          },
          "metadata": {
            "tags": []
          },
          "execution_count": 535
        }
      ]
    },
    {
      "cell_type": "markdown",
      "metadata": {
        "id": "iJqwHVNLz2O4"
      },
      "source": [
        "\n",
        "Echemos un vistazo a cómo cada una de estas características varía con el tiempo.\n"
      ]
    },
    {
      "cell_type": "code",
      "metadata": {
        "colab": {
          "base_uri": "https://localhost:8080/",
          "height": 395
        },
        "id": "z3m838B1z2O4",
        "outputId": "17f05ae5-baa0-436a-c159-d5f856d705f9"
      },
      "source": [
        "features.plot(subplots=True, rot=45, xlabel='Fecha')\n",
        "plt.show()"
      ],
      "execution_count": 536,
      "outputs": [
        {
          "output_type": "display_data",
          "data": {
            "image/png": "[encoded data removed]",
            "text/plain": [
              "<Figure size 576x432 with 5 Axes>"
            ]
          },
          "metadata": {
            "tags": [],
            "needs_background": "light"
          }
        }
      ]
    },
    {
      "cell_type": "markdown",
      "metadata": {
        "id": "rhrR3WZLz2O4"
      },
      "source": [
        "Como se mencionó, el primer paso será estandarizar el conjunto de datos utilizando la media y la desviación estándar de los datos de entrenamiento."
      ]
    },
    {
      "cell_type": "code",
      "metadata": {
        "id": "URZYBxq-6U54"
      },
      "source": [
        "#features_ind=features.reset_index()\n",
        "df_indi=df[['indi_bin']].reset_index()#'indi','post_date',\n",
        "#features_date=features_ind.merge(df_indi,how='left',on='post_date')"
      ],
      "execution_count": 537,
      "outputs": []
    },
    {
      "cell_type": "code",
      "metadata": {
        "id": "Ym6jirWKz2O5"
      },
      "source": [
        "#fecha = features_date['post_date'].values\n",
        "dataset = features.values\n",
        "data_mean = dataset[:TRAIN_SPLIT].mean(axis=0)\n",
        "data_std = dataset[:TRAIN_SPLIT].std(axis=0)"
      ],
      "execution_count": 538,
      "outputs": []
    },
    {
      "cell_type": "code",
      "metadata": {
        "id": "ytmlaU6Rz2O5"
      },
      "source": [
        "dataset = (dataset-data_mean)/data_std"
      ],
      "execution_count": 539,
      "outputs": []
    },
    {
      "cell_type": "code",
      "metadata": {
        "colab": {
          "base_uri": "https://localhost:8080/"
        },
        "id": "PCMM7GDI1U0d",
        "outputId": "8e755998-ee0e-4789-d18c-2593323bed48"
      },
      "source": [
        "dataset"
      ],
      "execution_count": 540,
      "outputs": [
        {
          "output_type": "execute_result",
          "data": {
            "text/plain": [
              "array([[-0.18563351,  5.08031896, -0.75811692, -0.25094164, -0.34497041],\n",
              "       [ 0.27483279, -0.4521108 , -0.73973905, -0.07679985, -1.40242474],\n",
              "       [ 0.3493687 , -0.9879435 , -0.91477222,  0.78457391, -2.33207057],\n",
              "       ...,\n",
              "       [-0.48212081,  0.28958027,  2.5274669 ,  1.89622862, -1.32229272],\n",
              "       [-0.99227772, -0.35308507,  1.84903998,  1.03665645, -0.54086045],\n",
              "       [-0.95749429,  3.02612324,  2.68039903,  1.60839978, -0.75812994]])"
            ]
          },
          "metadata": {
            "tags": []
          },
          "execution_count": 540
        }
      ]
    },
    {
      "cell_type": "code",
      "metadata": {
        "id": "JSp3lnW_4EIg"
      },
      "source": [
        "dataset=np.array(np.concatenate( (dataset,df_indi.iloc[:,1:2]),axis = 1),dtype='float')\n",
        "#features_date.iloc[:,1:6].values\n",
        "#dataset\n",
        "#features_date"
      ],
      "execution_count": 541,
      "outputs": []
    },
    {
      "cell_type": "code",
      "metadata": {
        "colab": {
          "base_uri": "https://localhost:8080/"
        },
        "id": "2K82-34F69He",
        "outputId": "ed10f57f-7aa3-41e7-ae76-8ae6e45192a4"
      },
      "source": [
        "# Cuenta las frecuencias de los datos\n",
        "counts = np.bincount(df_indi.iloc[:,1])\n",
        "print(\n",
        "    \"Number of positive samples in training data: {} ({:.2f}% of total)\".format(\n",
        "        counts[1], 100 * float(counts[1]) / len(df_indi.iloc[:,1])\n",
        "    )\n",
        ")\n",
        "\n",
        "# Crea los pesos para el entrenamiento. Más peso a los menos frecuentes (1)\n",
        "weight_for_0 = 1.0 / counts[0]\n",
        "weight_for_1 = 1.0 / counts[1]"
      ],
      "execution_count": 542,
      "outputs": [
        {
          "output_type": "stream",
          "text": [
            "Number of positive samples in training data: 132 (10.53% of total)\n"
          ],
          "name": "stdout"
        }
      ]
    },
    {
      "cell_type": "code",
      "metadata": {
        "colab": {
          "base_uri": "https://localhost:8080/"
        },
        "id": "jy8dAJIX7kNK",
        "outputId": "2941dcba-b316-48eb-8fc2-b0cb8df04477"
      },
      "source": [
        "print(weight_for_1)\n",
        "print(weight_for_0)"
      ],
      "execution_count": 543,
      "outputs": [
        {
          "output_type": "stream",
          "text": [
            "0.007575757575757576\n",
            "0.0008920606601248885\n"
          ],
          "name": "stdout"
        }
      ]
    },
    {
      "cell_type": "markdown",
      "metadata": {
        "id": "wSm1GZuiz2O5"
      },
      "source": [
        "## <span style=\"color:blue\">Modelo de un Paso</span>"
      ]
    },
    {
      "cell_type": "markdown",
      "metadata": {
        "id": "9lXL3gLKz2O5"
      },
      "source": [
        "\n",
        "En una configuración de un  paso, el modelo aprende a predecir un solo punto en el futuro en función del historial proporcionado.\n",
        "\n",
        "La función a continuación realiza la misma tarea de ventanas que antes, sin embargo, aquí muestra la observación pasada en función del tamaño de paso dado."
      ]
    },
    {
      "cell_type": "markdown",
      "metadata": {
        "id": "jCnKG5ILz2O6"
      },
      "source": [
        "### Crea arreglos de datos de entrenamiento y validación"
      ]
    },
    {
      "cell_type": "code",
      "metadata": {
        "id": "wAHw7VX8z2O6"
      },
      "source": [
        "past_history = 7\n",
        "future_target = 1\n",
        "STEP = 1\n",
        "target = 5\n",
        "\n",
        "x_train_single, y_train_single = multivariate_data(dataset[:,0:5], dataset[:, target], 0,\n",
        "                                                   TRAIN_SPLIT, past_history,\n",
        "                                                   future_target, STEP,\n",
        "                                                   single_step=True)\n",
        "TRAIN_SPLIT2 = 950\n",
        "x_val_single, y_val_single = multivariate_data(dataset[:,0:5], dataset[:, target],\n",
        "                                               TRAIN_SPLIT2, None, past_history,\n",
        "                                               future_target, STEP,\n",
        "                                               single_step=True)"
      ],
      "execution_count": 549,
      "outputs": []
    },
    {
      "cell_type": "code",
      "metadata": {
        "colab": {
          "base_uri": "https://localhost:8080/"
        },
        "id": "P2suotCnz2O6",
        "outputId": "10363af3-98e0-43af-dc87-23051b83d3d2"
      },
      "source": [
        "print(dataset.shape)\n",
        "print(x_train_single.shape)\n",
        "print(y_train_single.shape)\n",
        "print(x_val_single.shape)\n",
        "print(y_val_single.shape)"
      ],
      "execution_count": 550,
      "outputs": [
        {
          "output_type": "stream",
          "text": [
            "(1253, 6)\n",
            "(1243, 7, 5)\n",
            "(1243,)\n",
            "(295, 7, 5)\n",
            "(295,)\n"
          ],
          "name": "stdout"
        }
      ]
    },
    {
      "cell_type": "markdown",
      "metadata": {
        "id": "TFxiXkb4z2O7"
      },
      "source": [
        "Veamos una ventana de datos de la historia pasada"
      ]
    },
    {
      "cell_type": "code",
      "metadata": {
        "id": "0NXd-eB0z2O7",
        "colab": {
          "base_uri": "https://localhost:8080/"
        },
        "outputId": "3cc43f34-f2cc-4290-d271-3955c4635139"
      },
      "source": [
        "print ('Ventana ejemplo de la historia pasada : {}'.format(x_train_single[0].shape))"
      ],
      "execution_count": 551,
      "outputs": [
        {
          "output_type": "stream",
          "text": [
            "Ventana ejemplo de la historia pasada : (7, 5)\n"
          ],
          "name": "stdout"
        }
      ]
    },
    {
      "cell_type": "code",
      "metadata": {
        "id": "pAXlFZY3z2O7",
        "colab": {
          "base_uri": "https://localhost:8080/"
        },
        "outputId": "35231b83-2617-4cef-f42c-0443d5ceb99b"
      },
      "source": [
        "y_train_single[0:10]"
      ],
      "execution_count": 552,
      "outputs": [
        {
          "output_type": "execute_result",
          "data": {
            "text/plain": [
              "array([0., 0., 0., 0., 0., 0., 0., 1., 1., 0.])"
            ]
          },
          "metadata": {
            "tags": []
          },
          "execution_count": 552
        }
      ]
    },
    {
      "cell_type": "markdown",
      "metadata": {
        "id": "OLo8bQ5jz2O7"
      },
      "source": [
        "### Crea objetos tf.data.Dataset para entreno y validación"
      ]
    },
    {
      "cell_type": "markdown",
      "metadata": {
        "id": "vm_zXUIgz2O8"
      },
      "source": [
        "Para manejo más eficiente de memoria "
      ]
    },
    {
      "cell_type": "code",
      "metadata": {
        "id": "Mg24Rvz9z2O8"
      },
      "source": [
        "BATCH_SIZE = 64\n",
        "BUFFER_SIZE = 1000\n",
        "\n",
        "train_data_single = tf.data.Dataset.from_tensor_slices((x_train_single, y_train_single))\n",
        "train_data_single = train_data_single.cache().shuffle(BUFFER_SIZE).batch(BATCH_SIZE).repeat()\n",
        "\n",
        "val_data_single = tf.data.Dataset.from_tensor_slices((x_val_single, y_val_single))\n",
        "val_data_single = val_data_single.batch(BATCH_SIZE).repeat()"
      ],
      "execution_count": 553,
      "outputs": []
    },
    {
      "cell_type": "markdown",
      "metadata": {
        "id": "Wy1Tuoiuz2PA"
      },
      "source": [
        "### Modelo LSTM "
      ]
    },
    {
      "cell_type": "code",
      "metadata": {
        "id": "GBSU9rg8JiHa"
      },
      "source": [
        "# Build the model\n",
        "from tensorflow.keras.models import Sequential\n",
        "from tensorflow.keras.layers import LSTM,Dense, Dropout, SpatialDropout1D\n",
        "from tensorflow.keras.layers import Embedding\n",
        "from sklearn.metrics import confusion_matrix"
      ],
      "execution_count": 554,
      "outputs": []
    },
    {
      "cell_type": "code",
      "metadata": {
        "colab": {
          "base_uri": "https://localhost:8080/"
        },
        "id": "Tu49WZJ9z2PA",
        "outputId": "bd784eb9-7a2c-40c1-b391-bee49dc0fdc9"
      },
      "source": [
        "input_shape = (x_train_single.shape[1], x_train_single.shape[2])\n",
        "units = 64\n",
        "drop_out_rate = 0.0001\n",
        "\n",
        "# layers\n",
        "inputs = Input(input_shape)\n",
        "x = Dropout(drop_out_rate/2, name= 'Dropout_01')(inputs)\n",
        "x = LSTM(units=units, name='LSTM_layer',\n",
        "         dropout=drop_out_rate/2, recurrent_dropout=0.2, activation='tanh',return_sequences =True)(x)        # \n",
        "x = Dropout(drop_out_rate/4, name= 'Dropout_02')(x)\n",
        "x = LSTM(units=units//2, name='LSTM_layer2',\n",
        "         dropout=drop_out_rate/4, recurrent_dropout=0.2, activation='tanh',return_sequences =True)(x)\n",
        "x = Dropout(drop_out_rate/6, name= 'Dropout_03')(x)         \n",
        "x = LSTM(units=units//4, name='LSTM_layer3',\n",
        "         dropout=drop_out_rate/6, recurrent_dropout=0.1, activation='tanh')(x)     #      \n",
        "x = Dense(1, activation='tanh')(x)\n",
        "outputs = Dense(1)(x)\n",
        "\n",
        "# model\n",
        "single_step_model = Model(inputs=inputs, outputs=outputs, name='series_LSTM_model')\n",
        "single_step_model.summary()\n",
        "\n",
        "\n",
        "#single_step_model = tf.keras.models.Sequential()\n",
        "#single_step_model.add(tf.keras.layers.LSTM(32, input_shape=x_train_single.shape[-2:]))\n",
        "#single_step_model.add(tf.keras.layers.Dense(1))"
      ],
      "execution_count": 566,
      "outputs": [
        {
          "output_type": "stream",
          "text": [
            "Model: \"series_LSTM_model\"\n",
            "_________________________________________________________________\n",
            "Layer (type)                 Output Shape              Param #   \n",
            "=================================================================\n",
            "input_70 (InputLayer)        [(None, 7, 5)]            0         \n",
            "_________________________________________________________________\n",
            "Dropout_01 (Dropout)         (None, 7, 5)              0         \n",
            "_________________________________________________________________\n",
            "LSTM_layer (LSTM)            (None, 7, 64)             17920     \n",
            "_________________________________________________________________\n",
            "Dropout_02 (Dropout)         (None, 7, 64)             0         \n",
            "_________________________________________________________________\n",
            "LSTM_layer2 (LSTM)           (None, 7, 32)             12416     \n",
            "_________________________________________________________________\n",
            "Dropout_03 (Dropout)         (None, 7, 32)             0         \n",
            "_________________________________________________________________\n",
            "LSTM_layer3 (LSTM)           (None, 16)                3136      \n",
            "_________________________________________________________________\n",
            "dense_138 (Dense)            (None, 1)                 17        \n",
            "_________________________________________________________________\n",
            "dense_139 (Dense)            (None, 1)                 2         \n",
            "=================================================================\n",
            "Total params: 33,491\n",
            "Trainable params: 33,491\n",
            "Non-trainable params: 0\n",
            "_________________________________________________________________\n"
          ],
          "name": "stdout"
        }
      ]
    },
    {
      "cell_type": "markdown",
      "metadata": {
        "id": "Ri4sWzZHz2PA"
      },
      "source": [
        "### Compila"
      ]
    },
    {
      "cell_type": "code",
      "metadata": {
        "id": "0fRcpJq6z2PB"
      },
      "source": [
        "single_step_model.compile(optimizer=Adam(), loss='binary_crossentropy', metrics=['accuracy'])"
      ],
      "execution_count": 567,
      "outputs": []
    },
    {
      "cell_type": "markdown",
      "metadata": {
        "id": "B6QaR5DAz2PB"
      },
      "source": [
        "Revisemos una predicción simple"
      ]
    },
    {
      "cell_type": "code",
      "metadata": {
        "colab": {
          "base_uri": "https://localhost:8080/"
        },
        "id": "7xpx5b89z2PB",
        "outputId": "21304c76-0765-4e2f-9d78-4b2fb3446660"
      },
      "source": [
        "for x, y in val_data_single.take(1):\n",
        "  print(single_step_model.predict(x).shape)"
      ],
      "execution_count": 296,
      "outputs": [
        {
          "output_type": "stream",
          "text": [
            "(64, 1)\n"
          ],
          "name": "stdout"
        }
      ]
    },
    {
      "cell_type": "code",
      "metadata": {
        "id": "GfDFl3MSz2PB"
      },
      "source": [
        "#single_step_model.predict(x).T\n",
        "?single_step_model.fit"
      ],
      "execution_count": 60,
      "outputs": []
    },
    {
      "cell_type": "code",
      "metadata": {
        "colab": {
          "base_uri": "https://localhost:8080/"
        },
        "id": "n2YE8IT1L2Tq",
        "outputId": "91bb7ccf-ed38-4e6c-faec-e229119fd0f4"
      },
      "source": [
        "counts"
      ],
      "execution_count": 275,
      "outputs": [
        {
          "output_type": "execute_result",
          "data": {
            "text/plain": [
              "array([1121,  132])"
            ]
          },
          "metadata": {
            "tags": []
          },
          "execution_count": 275
        }
      ]
    },
    {
      "cell_type": "markdown",
      "metadata": {
        "id": "ctw9xYfJz2PB"
      },
      "source": [
        "### Entrena"
      ]
    },
    {
      "cell_type": "code",
      "metadata": {
        "colab": {
          "base_uri": "https://localhost:8080/"
        },
        "id": "rchxE8Xjz2PC",
        "outputId": "72439767-48d0-4055-c0ed-daf20be13dba"
      },
      "source": [
        "EVALUATION_INTERVAL = 200\n",
        "EPOCHS = 70\n",
        "class_weight = {0: weight_for_0, 1: weight_for_1}\n",
        "single_step_history = single_step_model.fit(train_data_single, epochs=EPOCHS,\n",
        "                                            steps_per_epoch=EVALUATION_INTERVAL,\n",
        "                                            validation_data=val_data_single,\n",
        "                                            validation_steps=10,shuffle=True,class_weight=class_weight) #"
      ],
      "execution_count": 568,
      "outputs": [
        {
          "output_type": "stream",
          "text": [
            "Epoch 1/70\n",
            "200/200 [==============================] - 11s 27ms/step - loss: 0.0012 - accuracy: 0.6772 - val_loss: 1.0313 - val_accuracy: 0.2508\n",
            "Epoch 2/70\n",
            "200/200 [==============================] - 5s 24ms/step - loss: 9.1083e-04 - accuracy: 0.6507 - val_loss: 1.0216 - val_accuracy: 0.2339\n",
            "Epoch 3/70\n",
            "200/200 [==============================] - 5s 24ms/step - loss: 8.8801e-04 - accuracy: 0.6690 - val_loss: 1.0134 - val_accuracy: 0.2373\n",
            "Epoch 4/70\n",
            "200/200 [==============================] - 5s 23ms/step - loss: 8.7003e-04 - accuracy: 0.6837 - val_loss: 1.0554 - val_accuracy: 0.2746\n",
            "Epoch 5/70\n",
            "200/200 [==============================] - 5s 24ms/step - loss: 8.4984e-04 - accuracy: 0.6884 - val_loss: 0.9623 - val_accuracy: 0.3017\n",
            "Epoch 6/70\n",
            "200/200 [==============================] - 5s 24ms/step - loss: 8.2869e-04 - accuracy: 0.6938 - val_loss: 0.9982 - val_accuracy: 0.3085\n",
            "Epoch 7/70\n",
            "200/200 [==============================] - 5s 23ms/step - loss: 8.0153e-04 - accuracy: 0.7000 - val_loss: 0.9791 - val_accuracy: 0.3322\n",
            "Epoch 8/70\n",
            "200/200 [==============================] - 5s 24ms/step - loss: 7.7691e-04 - accuracy: 0.7027 - val_loss: 0.9416 - val_accuracy: 0.3525\n",
            "Epoch 9/70\n",
            "200/200 [==============================] - 5s 24ms/step - loss: 7.2373e-04 - accuracy: 0.7282 - val_loss: 1.0003 - val_accuracy: 0.3593\n",
            "Epoch 10/70\n",
            "200/200 [==============================] - 5s 24ms/step - loss: 7.3243e-04 - accuracy: 0.7204 - val_loss: 1.0383 - val_accuracy: 0.3525\n",
            "Epoch 11/70\n",
            "200/200 [==============================] - 5s 23ms/step - loss: 6.7413e-04 - accuracy: 0.7354 - val_loss: 0.9487 - val_accuracy: 0.3695\n",
            "Epoch 12/70\n",
            "200/200 [==============================] - 5s 23ms/step - loss: 6.3825e-04 - accuracy: 0.7434 - val_loss: 1.0111 - val_accuracy: 0.4068\n",
            "Epoch 13/70\n",
            "200/200 [==============================] - 5s 23ms/step - loss: 5.8051e-04 - accuracy: 0.7702 - val_loss: 1.0217 - val_accuracy: 0.4407\n",
            "Epoch 14/70\n",
            "200/200 [==============================] - 5s 23ms/step - loss: 5.3432e-04 - accuracy: 0.7839 - val_loss: 0.8409 - val_accuracy: 0.4949\n",
            "Epoch 15/70\n",
            "200/200 [==============================] - 5s 23ms/step - loss: 5.5435e-04 - accuracy: 0.7863 - val_loss: 0.8217 - val_accuracy: 0.5085\n",
            "Epoch 16/70\n",
            "200/200 [==============================] - 5s 23ms/step - loss: 5.7770e-04 - accuracy: 0.7934 - val_loss: 0.7678 - val_accuracy: 0.5220\n",
            "Epoch 17/70\n",
            "200/200 [==============================] - 5s 24ms/step - loss: 4.8023e-04 - accuracy: 0.8107 - val_loss: 0.8170 - val_accuracy: 0.5119\n",
            "Epoch 18/70\n",
            "200/200 [==============================] - 5s 24ms/step - loss: 4.5872e-04 - accuracy: 0.8237 - val_loss: 0.6327 - val_accuracy: 0.6339\n",
            "Epoch 19/70\n",
            "200/200 [==============================] - 5s 24ms/step - loss: 3.9704e-04 - accuracy: 0.8549 - val_loss: 1.1423 - val_accuracy: 0.4847\n",
            "Epoch 20/70\n",
            "200/200 [==============================] - 5s 23ms/step - loss: 5.5294e-04 - accuracy: 0.8189 - val_loss: 0.8012 - val_accuracy: 0.5695\n",
            "Epoch 21/70\n",
            "200/200 [==============================] - 5s 23ms/step - loss: 4.1872e-04 - accuracy: 0.8397 - val_loss: 0.7121 - val_accuracy: 0.6000\n",
            "Epoch 22/70\n",
            "200/200 [==============================] - 5s 24ms/step - loss: 3.7518e-04 - accuracy: 0.8547 - val_loss: 0.8199 - val_accuracy: 0.5458\n",
            "Epoch 23/70\n",
            "200/200 [==============================] - 5s 23ms/step - loss: 3.2719e-04 - accuracy: 0.8759 - val_loss: 0.6601 - val_accuracy: 0.6746\n",
            "Epoch 24/70\n",
            "200/200 [==============================] - 5s 24ms/step - loss: 3.5624e-04 - accuracy: 0.8684 - val_loss: 0.6718 - val_accuracy: 0.6034\n",
            "Epoch 25/70\n",
            "200/200 [==============================] - 5s 24ms/step - loss: 3.1411e-04 - accuracy: 0.8904 - val_loss: 0.4312 - val_accuracy: 0.7797\n",
            "Epoch 26/70\n",
            "200/200 [==============================] - 5s 24ms/step - loss: 3.2075e-04 - accuracy: 0.8962 - val_loss: 0.6068 - val_accuracy: 0.6712\n",
            "Epoch 27/70\n",
            "200/200 [==============================] - 5s 23ms/step - loss: 3.0749e-04 - accuracy: 0.8917 - val_loss: 0.5424 - val_accuracy: 0.7424\n",
            "Epoch 28/70\n",
            "200/200 [==============================] - 5s 23ms/step - loss: 7.9156e-04 - accuracy: 0.7531 - val_loss: 0.7895 - val_accuracy: 0.5153\n",
            "Epoch 29/70\n",
            "200/200 [==============================] - 5s 24ms/step - loss: 8.9725e-04 - accuracy: 0.7665 - val_loss: 0.5997 - val_accuracy: 0.6475\n",
            "Epoch 30/70\n",
            "200/200 [==============================] - 5s 23ms/step - loss: 8.1815e-04 - accuracy: 0.8306 - val_loss: 0.5342 - val_accuracy: 0.7085\n",
            "Epoch 31/70\n",
            "200/200 [==============================] - 5s 24ms/step - loss: 4.6972e-04 - accuracy: 0.8515 - val_loss: 0.5061 - val_accuracy: 0.7424\n",
            "Epoch 32/70\n",
            "200/200 [==============================] - 5s 24ms/step - loss: 3.8359e-04 - accuracy: 0.8983 - val_loss: 0.4759 - val_accuracy: 0.7661\n",
            "Epoch 33/70\n",
            "200/200 [==============================] - 5s 23ms/step - loss: 3.5237e-04 - accuracy: 0.9147 - val_loss: 0.3591 - val_accuracy: 0.8407\n",
            "Epoch 34/70\n",
            "200/200 [==============================] - 5s 24ms/step - loss: 4.0344e-04 - accuracy: 0.9241 - val_loss: 0.3817 - val_accuracy: 0.8102\n",
            "Epoch 35/70\n",
            "200/200 [==============================] - 5s 24ms/step - loss: 2.8820e-04 - accuracy: 0.9357 - val_loss: 0.4027 - val_accuracy: 0.8305\n",
            "Epoch 36/70\n",
            "200/200 [==============================] - 5s 23ms/step - loss: 4.6516e-04 - accuracy: 0.9105 - val_loss: 1.0538 - val_accuracy: 0.4712\n",
            "Epoch 37/70\n",
            "200/200 [==============================] - 5s 23ms/step - loss: 6.9059e-04 - accuracy: 0.8118 - val_loss: 0.7983 - val_accuracy: 0.5831\n",
            "Epoch 38/70\n",
            "200/200 [==============================] - 5s 23ms/step - loss: 4.5707e-04 - accuracy: 0.8780 - val_loss: 0.5822 - val_accuracy: 0.7254\n",
            "Epoch 39/70\n",
            "200/200 [==============================] - 5s 23ms/step - loss: 4.4776e-04 - accuracy: 0.8816 - val_loss: 0.7128 - val_accuracy: 0.6475\n",
            "Epoch 40/70\n",
            "200/200 [==============================] - 5s 23ms/step - loss: 3.6541e-04 - accuracy: 0.9066 - val_loss: 0.4407 - val_accuracy: 0.7932\n",
            "Epoch 41/70\n",
            "200/200 [==============================] - 5s 24ms/step - loss: 3.2058e-04 - accuracy: 0.9262 - val_loss: 0.3786 - val_accuracy: 0.8407\n",
            "Epoch 42/70\n",
            "200/200 [==============================] - 5s 24ms/step - loss: 2.8890e-04 - accuracy: 0.9375 - val_loss: 0.3982 - val_accuracy: 0.8203\n",
            "Epoch 43/70\n",
            "200/200 [==============================] - 5s 24ms/step - loss: 2.6459e-04 - accuracy: 0.9471 - val_loss: 0.4083 - val_accuracy: 0.8407\n",
            "Epoch 44/70\n",
            "200/200 [==============================] - 5s 24ms/step - loss: 2.6003e-04 - accuracy: 0.9502 - val_loss: 0.2756 - val_accuracy: 0.8780\n",
            "Epoch 45/70\n",
            "200/200 [==============================] - 5s 24ms/step - loss: 2.4382e-04 - accuracy: 0.9546 - val_loss: 0.2355 - val_accuracy: 0.8949\n",
            "Epoch 46/70\n",
            "200/200 [==============================] - 5s 23ms/step - loss: 7.7982e-04 - accuracy: 0.9206 - val_loss: 0.6029 - val_accuracy: 0.7051\n",
            "Epoch 47/70\n",
            "200/200 [==============================] - 5s 24ms/step - loss: 4.5913e-04 - accuracy: 0.8700 - val_loss: 0.3044 - val_accuracy: 0.8542\n",
            "Epoch 48/70\n",
            "200/200 [==============================] - 5s 24ms/step - loss: 2.7621e-04 - accuracy: 0.9422 - val_loss: 0.2583 - val_accuracy: 0.8847\n",
            "Epoch 49/70\n",
            "200/200 [==============================] - 5s 24ms/step - loss: 2.5812e-04 - accuracy: 0.9570 - val_loss: 0.2504 - val_accuracy: 0.9186\n",
            "Epoch 50/70\n",
            "200/200 [==============================] - 5s 24ms/step - loss: 3.0354e-04 - accuracy: 0.9484 - val_loss: 0.3488 - val_accuracy: 0.8373\n",
            "Epoch 51/70\n",
            "200/200 [==============================] - 5s 24ms/step - loss: 1.7180e-04 - accuracy: 0.9479 - val_loss: 0.1865 - val_accuracy: 0.9254\n",
            "Epoch 52/70\n",
            "200/200 [==============================] - 5s 24ms/step - loss: 7.1453e-04 - accuracy: 0.8315 - val_loss: 0.4927 - val_accuracy: 0.7424\n",
            "Epoch 53/70\n",
            "200/200 [==============================] - 5s 24ms/step - loss: 3.8401e-04 - accuracy: 0.8701 - val_loss: 0.4719 - val_accuracy: 0.7593\n",
            "Epoch 54/70\n",
            "200/200 [==============================] - 5s 24ms/step - loss: 9.5812e-04 - accuracy: 0.7525 - val_loss: 0.6873 - val_accuracy: 0.6068\n",
            "Epoch 55/70\n",
            "200/200 [==============================] - 5s 24ms/step - loss: 8.2632e-04 - accuracy: 0.7739 - val_loss: 0.5788 - val_accuracy: 0.6678\n",
            "Epoch 56/70\n",
            "200/200 [==============================] - 5s 23ms/step - loss: 6.4206e-04 - accuracy: 0.8338 - val_loss: 0.5369 - val_accuracy: 0.7017\n",
            "Epoch 57/70\n",
            "200/200 [==============================] - 5s 24ms/step - loss: 5.7699e-04 - accuracy: 0.8270 - val_loss: 1.0052 - val_accuracy: 0.4712\n",
            "Epoch 58/70\n",
            "200/200 [==============================] - 5s 24ms/step - loss: 7.4144e-04 - accuracy: 0.7313 - val_loss: 0.6634 - val_accuracy: 0.6271\n",
            "Epoch 59/70\n",
            "200/200 [==============================] - 5s 24ms/step - loss: 6.1419e-04 - accuracy: 0.7832 - val_loss: 0.5879 - val_accuracy: 0.6746\n",
            "Epoch 60/70\n",
            "200/200 [==============================] - 5s 24ms/step - loss: 5.6564e-04 - accuracy: 0.8154 - val_loss: 0.5267 - val_accuracy: 0.7186\n",
            "Epoch 61/70\n",
            "200/200 [==============================] - 5s 24ms/step - loss: 5.7765e-04 - accuracy: 0.8025 - val_loss: 0.5872 - val_accuracy: 0.6475\n",
            "Epoch 62/70\n",
            "200/200 [==============================] - 5s 24ms/step - loss: 5.2561e-04 - accuracy: 0.8246 - val_loss: 0.5539 - val_accuracy: 0.7051\n",
            "Epoch 63/70\n",
            "200/200 [==============================] - 5s 24ms/step - loss: 4.8708e-04 - accuracy: 0.8500 - val_loss: 0.4696 - val_accuracy: 0.7559\n",
            "Epoch 64/70\n",
            "200/200 [==============================] - 5s 24ms/step - loss: 4.5322e-04 - accuracy: 0.8726 - val_loss: 0.4394 - val_accuracy: 0.7932\n",
            "Epoch 65/70\n",
            "200/200 [==============================] - 5s 24ms/step - loss: 4.1646e-04 - accuracy: 0.8825 - val_loss: 0.4431 - val_accuracy: 0.7831\n",
            "Epoch 66/70\n",
            "200/200 [==============================] - 5s 24ms/step - loss: 4.2217e-04 - accuracy: 0.8861 - val_loss: 0.9066 - val_accuracy: 0.5831\n",
            "Epoch 67/70\n",
            "200/200 [==============================] - 5s 24ms/step - loss: 4.9438e-04 - accuracy: 0.8405 - val_loss: 0.5119 - val_accuracy: 0.7390\n",
            "Epoch 68/70\n",
            "200/200 [==============================] - 5s 25ms/step - loss: 4.2236e-04 - accuracy: 0.8814 - val_loss: 0.4316 - val_accuracy: 0.7898\n",
            "Epoch 69/70\n",
            "200/200 [==============================] - 5s 24ms/step - loss: 3.8584e-04 - accuracy: 0.9028 - val_loss: 0.3911 - val_accuracy: 0.8271\n",
            "Epoch 70/70\n",
            "200/200 [==============================] - 5s 25ms/step - loss: 3.6879e-04 - accuracy: 0.9133 - val_loss: 0.3746 - val_accuracy: 0.8441\n"
          ],
          "name": "stdout"
        }
      ]
    },
    {
      "cell_type": "code",
      "metadata": {
        "colab": {
          "base_uri": "https://localhost:8080/",
          "height": 390
        },
        "id": "imiSPg_Tz2PC",
        "outputId": "0474027e-13e2-43fd-f73f-f240e1e6f812"
      },
      "source": [
        "plot_train_history(single_step_history,\n",
        "                   'Función de pérdida en el entrenamiento del modelo de un paso')"
      ],
      "execution_count": 569,
      "outputs": [
        {
          "output_type": "display_data",
          "data": {
            "image/png": "[encoded data removed]",
            "text/plain": [
              "<Figure size 576x432 with 1 Axes>"
            ]
          },
          "metadata": {
            "tags": [],
            "needs_background": "light"
          }
        }
      ]
    },
    {
      "cell_type": "code",
      "metadata": {
        "colab": {
          "base_uri": "https://localhost:8080/",
          "height": 374
        },
        "id": "aJbxABG2_V51",
        "outputId": "a72688bd-9abe-476d-d591-82948397bdc3"
      },
      "source": [
        "from matplotlib import pyplot as plt\n",
        "\n",
        "plt.plot(single_step_history.history['accuracy'], label='accuracy')\n",
        "plt.plot(single_step_history.history['val_accuracy'], label='val accuracy')\n",
        "plt.legend()\n",
        "plt.show()"
      ],
      "execution_count": 570,
      "outputs": [
        {
          "output_type": "display_data",
          "data": {
            "image/png": "[encoded data removed]",
            "text/plain": [
              "<Figure size 576x432 with 1 Axes>"
            ]
          },
          "metadata": {
            "tags": [],
            "needs_background": "light"
          }
        }
      ]
    },
    {
      "cell_type": "markdown",
      "metadata": {
        "id": "geP9b_W-z2PD"
      },
      "source": [
        "## <span style=\"color:blue\">Predicciones</span>"
      ]
    },
    {
      "cell_type": "code",
      "metadata": {
        "colab": {
          "base_uri": "https://localhost:8080/"
        },
        "id": "NKsN2NonN-y_",
        "outputId": "053cf0f8-7c31-40e4-b6d5-59cbe88876fb"
      },
      "source": [
        "y_val_single"
      ],
      "execution_count": 70,
      "outputs": [
        {
          "output_type": "execute_result",
          "data": {
            "text/plain": [
              "array([0., 0., 0., 0., 0., 0., 0., 0., 0., 0., 0., 1., 0., 0., 1., 0., 0.,\n",
              "       1., 0., 0., 0., 0., 0., 0., 0., 0., 0., 0., 0., 0., 0., 0., 0., 0.,\n",
              "       0., 0., 0., 0., 0., 0., 0., 1., 0., 0., 0., 0., 0., 0., 0., 1., 1.,\n",
              "       0., 0., 0., 0., 0., 0., 0., 0., 0., 0., 0., 0., 0., 0., 0., 0., 0.,\n",
              "       0., 0., 0., 0., 0., 0., 0., 0., 1., 1., 0., 0., 0., 1., 0., 0., 0.,\n",
              "       1., 0., 0., 0., 0., 1., 0., 1., 0., 0., 0., 0., 0., 0., 0., 1., 0.,\n",
              "       0., 1., 0., 0., 0., 0., 0., 0., 1., 0., 0., 0., 0., 0., 1., 0., 0.,\n",
              "       0., 0., 0., 0., 1., 0., 0., 0., 0., 0., 0., 0., 0., 0., 1., 0., 0.,\n",
              "       0., 0., 0., 0., 1., 1., 1., 1., 0., 0., 1., 0., 0., 1., 1., 0., 1.,\n",
              "       0., 0., 0., 0., 1., 0., 0., 0., 0., 0., 0., 0., 1., 0., 0., 0., 1.,\n",
              "       0., 1., 0., 0., 0., 0., 0., 0., 0., 0., 0., 0., 1., 0., 1., 0., 1.,\n",
              "       0., 0., 0., 0., 1., 0., 0., 0., 0., 0., 1., 0., 0., 0., 0., 0., 1.,\n",
              "       0., 1., 1., 0., 0., 0., 0., 0., 0., 0., 0., 0., 0., 0., 0., 0., 0.,\n",
              "       0., 1., 0., 0., 0., 0., 1., 0., 0., 1., 1., 0., 0., 0., 0., 1., 0.,\n",
              "       0., 0., 0., 1., 0., 1., 0., 0., 0.])"
            ]
          },
          "metadata": {
            "tags": []
          },
          "execution_count": 70
        }
      ]
    },
    {
      "cell_type": "code",
      "metadata": {
        "id": "FghAIq4iGbWq"
      },
      "source": [
        ""
      ],
      "execution_count": null,
      "outputs": []
    },
    {
      "cell_type": "code",
      "metadata": {
        "colab": {
          "base_uri": "https://localhost:8080/"
        },
        "id": "5YUPhzKyz2PD",
        "outputId": "2591abcd-6e63-47f1-9c07-bdbe4062e603"
      },
      "source": [
        "for x, y in val_data_single.take(3):\n",
        "    plot = show_plot([x[0][:, 1].numpy(), y[0].numpy(),\n",
        "                    single_step_model.predict(x)[0]], 12,\n",
        "                   'Predicciones de un paso')\n",
        "    plot.show()"
      ],
      "execution_count": 134,
      "outputs": [
        {
          "output_type": "display_data",
          "data": {
            "image/png": "[encoded data removed]",
            "text/plain": [
              "<Figure size 576x432 with 1 Axes>"
            ]
          },
          "metadata": {
            "tags": [],
            "needs_background": "light"
          }
        },
        {
          "output_type": "display_data",
          "data": {
            "image/png": "[encoded data removed]",
            "text/plain": [
              "<Figure size 576x432 with 1 Axes>"
            ]
          },
          "metadata": {
            "tags": [],
            "needs_background": "light"
          }
        },
        {
          "output_type": "display_data",
          "data": {
            "image/png": "[encoded data removed]",
            "text/plain": [
              "<Figure size 576x432 with 1 Axes>"
            ]
          },
          "metadata": {
            "tags": [],
            "needs_background": "light"
          }
        }
      ]
    },
    {
      "cell_type": "code",
      "metadata": {
        "id": "QWfDjrSKz2PD"
      },
      "source": [
        "y_pred =[]\n",
        "\n",
        "for x, y in val_data_single:\n",
        "    pred = single_step_model.predict(x)\n",
        "    \n",
        "    plot = show_plot([x[0][:, 1].numpy(), y[0].numpy(),\n",
        "                    single_step_model.predict(x)[0]], 12,\n",
        "                   'Predicciones de un paso')\n",
        "    plot.show()\n"
      ],
      "execution_count": null,
      "outputs": []
    },
    {
      "cell_type": "code",
      "metadata": {
        "id": "pDSzyNMYz2PE"
      },
      "source": [
        "y_pred = single_step_model.predict(x_val_single)\n",
        "y_pred = np.squeeze(y_pred,axis=1)\n",
        "y_test = y_val_single"
      ],
      "execution_count": 571,
      "outputs": []
    },
    {
      "cell_type": "code",
      "metadata": {
        "colab": {
          "base_uri": "https://localhost:8080/"
        },
        "id": "E4h1Fmf2z2PE",
        "outputId": "b8c05f8d-1881-4ba3-8a42-546fa29d87f1"
      },
      "source": [
        "print(y_pred.shape)\n",
        "print(y_test.shape)"
      ],
      "execution_count": 561,
      "outputs": [
        {
          "output_type": "stream",
          "text": [
            "(295,)\n",
            "(295,)\n"
          ],
          "name": "stdout"
        }
      ]
    },
    {
      "cell_type": "code",
      "metadata": {
        "colab": {
          "base_uri": "https://localhost:8080/"
        },
        "id": "FjYREvsuSEa7",
        "outputId": "e5561b49-3cde-49a0-f64a-6cb53a1f2828"
      },
      "source": [
        "# Predicting the Test set results\n",
        "y_pred[y_pred > 0.5] = 1\n",
        "y_pred[y_pred <=0.5] = 0\n",
        "print((y_pred == 0).sum())\n",
        "print((y_pred == 1).sum())"
      ],
      "execution_count": 572,
      "outputs": [
        {
          "output_type": "stream",
          "text": [
            "180\n",
            "115\n"
          ],
          "name": "stdout"
        }
      ]
    },
    {
      "cell_type": "code",
      "metadata": {
        "colab": {
          "base_uri": "https://localhost:8080/"
        },
        "id": "w_kfuRvFSStY",
        "outputId": "8404d780-a800-4164-aaba-fcc86f1b0d2f"
      },
      "source": [
        "cm = confusion_matrix(y_test, y_pred)\n",
        "cm"
      ],
      "execution_count": 573,
      "outputs": [
        {
          "output_type": "execute_result",
          "data": {
            "text/plain": [
              "array([[180,  46],\n",
              "       [  0,  69]])"
            ]
          },
          "metadata": {
            "tags": []
          },
          "execution_count": 573
        }
      ]
    },
    {
      "cell_type": "code",
      "metadata": {
        "colab": {
          "base_uri": "https://localhost:8080/",
          "height": 395
        },
        "id": "qKe9_LwlVUUG",
        "outputId": "89a4605c-4e25-46e4-c67f-bdcbc106f328"
      },
      "source": [
        "import seaborn as sns\n",
        "sns.heatmap(cm,annot=True)"
      ],
      "execution_count": 574,
      "outputs": [
        {
          "output_type": "execute_result",
          "data": {
            "text/plain": [
              "<matplotlib.axes._subplots.AxesSubplot at 0x7efd9b6a4e10>"
            ]
          },
          "metadata": {
            "tags": []
          },
          "execution_count": 574
        },
        {
          "output_type": "display_data",
          "data": {
            "image/png": "[encoded data removed]",
            "text/plain": [
              "<Figure size 576x432 with 2 Axes>"
            ]
          },
          "metadata": {
            "tags": [],
            "needs_background": "light"
          }
        }
      ]
    },
    {
      "cell_type": "code",
      "metadata": {
        "id": "9Tkg47scsSLE"
      },
      "source": [
        "single_step_model.save('/content/drive/MyDrive/Colab Notebooks/UN_Mineria_de_datos/Proyecto/Archivos/Datos_Sentimiento/modelo_1.h5')"
      ],
      "execution_count": 575,
      "outputs": []
    },
    {
      "cell_type": "code",
      "metadata": {
        "colab": {
          "base_uri": "https://localhost:8080/"
        },
        "id": "QsDqfRtwtRfR",
        "outputId": "dbc4795f-369d-4555-daa5-774b00984926"
      },
      "source": [
        "keras.experimental.export_saved_model(single_step_model,'/content/drive/MyDrive/Colab Notebooks/UN_Mineria_de_datos/Proyecto/Archivos/Datos_Sentimiento')"
      ],
      "execution_count": 522,
      "outputs": [
        {
          "output_type": "error",
          "ename": "NameError",
          "evalue": "ignored",
          "traceback": [
            "\u001b[0;31m---------------------------------------------------------------------------\u001b[0m",
            "\u001b[0;31mNameError\u001b[0m                                 Traceback (most recent call last)",
            "\u001b[0;32m<ipython-input-522-9d23d60af1d1>\u001b[0m in \u001b[0;36m<module>\u001b[0;34m()\u001b[0m\n\u001b[0;32m----> 1\u001b[0;31m \u001b[0mkeras\u001b[0m\u001b[0;34m.\u001b[0m\u001b[0mexperimental\u001b[0m\u001b[0;34m.\u001b[0m\u001b[0mexport_saved_model\u001b[0m\u001b[0;34m(\u001b[0m\u001b[0msingle_step_model\u001b[0m\u001b[0;34m,\u001b[0m\u001b[0;34m'/content/drive/MyDrive/Colab Notebooks/UN_Mineria_de_datos/Proyecto/Archivos/Datos_Sentimiento'\u001b[0m\u001b[0;34m)\u001b[0m\u001b[0;34m\u001b[0m\u001b[0;34m\u001b[0m\u001b[0m\n\u001b[0m",
            "\u001b[0;31mNameError\u001b[0m: name 'keras' is not defined"
          ]
        }
      ]
    },
    {
      "cell_type": "markdown",
      "metadata": {
        "id": "hZqy01W4z2PE"
      },
      "source": [
        "### rms"
      ]
    },
    {
      "cell_type": "code",
      "metadata": {
        "id": "bpq-dZ2bz2PF",
        "colab": {
          "base_uri": "https://localhost:8080/"
        },
        "outputId": "5315badc-1549-4080-9446-9e0ed97fb7a5"
      },
      "source": [
        "#rmsLSTM = np.sqrt(np.mean(np.power(y_pred-y_test,2)))\n",
        "#print(rmsLSTM )"
      ],
      "execution_count": null,
      "outputs": [
        {
          "output_type": "stream",
          "text": [
            "0.5169201850699908\n"
          ],
          "name": "stdout"
        }
      ]
    },
    {
      "cell_type": "code",
      "metadata": {
        "id": "5a03i_Knz2PF"
      },
      "source": [
        "def plot_series(y_test,y_pred, title, x_label, y_label,epochs):\n",
        "    plt.plot(np.arange(0, len(y_test)), y_test, marker='.', label=\"verdadero\")\n",
        "    plt.plot(np.arange(0, len(y_test)), y_pred, marker='+', label=\"predicho\")\n",
        "    plt.xlabel(x_label)\n",
        "    plt.ylabel(y_label)\n",
        "    #plt.annotate(\"rms=\"+str(round(rms,2)) , xy=(500, 1.3), size = 10)\n",
        "    #plt.annotate(\"modelo = LSTM(50), timestep=60\" , xy=(100, 146), size = 15)\n",
        "    #\n",
        "    plt.annotate(\"epochs=\"+str(epochs) , xy=(500, 1.5), size = 10)\n",
        "    plt.title(title)\n",
        "    plt.legend()\n",
        "    plt.show()\n",
        "    \n"
      ],
      "execution_count": null,
      "outputs": []
    },
    {
      "cell_type": "code",
      "metadata": {
        "id": "74Puwj-Nz2PF",
        "colab": {
          "base_uri": "https://localhost:8080/",
          "height": 529
        },
        "outputId": "9bebaa4e-d24f-44b1-ad9b-830e96777f8f"
      },
      "source": [
        "title = \"Intervalo de predicción a 12 horas (72 obs). Escala estandarizada\"\n",
        "x_label = 'Tiempo'\n",
        "y_label = 'Temperatura normalizada'\n",
        "rms = rmsLSTM\n",
        "plot_series(y_test[:2000], y_pred[:2000],title,x_label, y_label, epochs=10 )"
      ],
      "execution_count": null,
      "outputs": [
        {
          "output_type": "display_data",
          "data": {
            "image/png": "[encoded data removed]",
            "text/plain": [
              "<Figure size 576x432 with 1 Axes>"
            ]
          },
          "metadata": {
            "tags": [],
            "needs_background": "light"
          }
        }
      ]
    }
  ]
}